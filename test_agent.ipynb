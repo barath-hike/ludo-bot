{
 "cells": [
  {
   "cell_type": "code",
   "execution_count": 7,
   "metadata": {},
   "outputs": [
    {
     "data": {
      "application/vnd.jupyter.widget-view+json": {
       "model_id": "c60dc5286ca848e9bf4e1b3ea689393a",
       "version_major": 2,
       "version_minor": 0
      },
      "text/plain": [
       "Downloading:   0%|          | 0/144 [00:00<?, ?rows/s]"
      ]
     },
     "metadata": {},
     "output_type": "display_data"
    }
   ],
   "source": [
    "import pandas as pd\n",
    "import numpy as np\n",
    "import json\n",
    "import os\n",
    "from tqdm import tqdm\n",
    "from Agents.DQNAgent import DQNAgent\n",
    "from Boards.Full_Board import FullBoard\n",
    "\n",
    "query=\"\"\"\n",
    "select *\n",
    "from `analytics-156605.barath.ludo_table`\n",
    "order by division, time_stamp\n",
    "\"\"\"\n",
    "\n",
    "df = pd.read_gbq(query, use_bqstorage_api=True, progress_bar_type='tqdm_notebook')"
   ]
  },
  {
   "cell_type": "code",
   "execution_count": 8,
   "metadata": {},
   "outputs": [],
   "source": [
    "user_ids = []\n",
    "dice = []\n",
    "pos = []\n",
    "\n",
    "for i in range (len(df)):\n",
    "    temp_user_id = df['from_user'][i]\n",
    "    temps = json.loads(json.loads(df['race'][i])['ludoBoardData'])['upd']\n",
    "    temp_dice = int(df['dice_score'][i])\n",
    "\n",
    "    for j, temp in enumerate(temps):\n",
    "        if j == 0:\n",
    "            temp_pos = temps[temp]['pos']\n",
    "        else:\n",
    "            temp_pos += temps[temp]['pos']\n",
    "        if temp == temp_user_id:\n",
    "            temp_user_id = j\n",
    "        if i == len(df) - 1:\n",
    "            if j == 0:\n",
    "                score = [temps[temp]['totScore']]\n",
    "            else:\n",
    "                score += [temps[temp]['totScore']]\n",
    "\n",
    "    user_ids.append(temp_user_id)\n",
    "    dice.append(temp_dice)\n",
    "    pos.append(temp_pos)"
   ]
  },
  {
   "cell_type": "code",
   "execution_count": 9,
   "metadata": {},
   "outputs": [],
   "source": [
    "user_ids = user_ids[1:]\n",
    "dice = dice[1:]"
   ]
  },
  {
   "cell_type": "code",
   "execution_count": 4,
   "metadata": {},
   "outputs": [],
   "source": [
    "user_ids = np.array(user_ids)\n",
    "dice = np.array(dice)\n",
    "pos = np.array(pos)\n",
    "score = np.array(score)\n",
    "\n",
    "pos = pos - pos[0,:]"
   ]
  },
  {
   "cell_type": "code",
   "execution_count": 10,
   "metadata": {},
   "outputs": [],
   "source": [
    "pos = np.array(pos)"
   ]
  },
  {
   "cell_type": "code",
   "execution_count": 14,
   "metadata": {},
   "outputs": [
    {
     "data": {
      "text/plain": [
       "array([[14, 14, 14, 14],\n",
       "       [14, 14, 14, 14],\n",
       "       [14, 14, 14, 14],\n",
       "       [14, 14, 19, 14],\n",
       "       [14, 14, 19, 14],\n",
       "       [14, 14, 19, 14],\n",
       "       [14, 14, 19, 14],\n",
       "       [14, 14, 24, 14],\n",
       "       [14, 14, 24, 14],\n",
       "       [14, 14, 24, 14],\n",
       "       [14, 14, 24, 14],\n",
       "       [14, 14, 24, 19],\n",
       "       [14, 14, 24, 19],\n",
       "       [14, 14, 24, 19],\n",
       "       [14, 14, 24, 19],\n",
       "       [14, 14, 24, 19],\n",
       "       [14, 14, 24, 19],\n",
       "       [14, 14, 24, 25],\n",
       "       [14, 18, 24, 25],\n",
       "       [14, 18, 24, 25],\n",
       "       [14, 18, 24, 25],\n",
       "       [14, 18, 24, 25],\n",
       "       [14, 18, 24, 31],\n",
       "       [14, 18, 24, 32],\n",
       "       [14, 18, 24, 32],\n",
       "       [14, 18, 24, 14],\n",
       "       [14, 18, 24, 14],\n",
       "       [14, 18, 24, 14],\n",
       "       [14, 18, 24, 14],\n",
       "       [14, 14, 24, 14],\n",
       "       [14, 14, 24, 14],\n",
       "       [14, 14, 24, 14],\n",
       "       [14, 14, 24, 14],\n",
       "       [18, 14, 24, 14],\n",
       "       [18, 14, 24, 14],\n",
       "       [18, 14, 24, 14],\n",
       "       [18, 14, 24, 14],\n",
       "       [18, 14, 24, 14],\n",
       "       [22, 14, 24, 14],\n",
       "       [22, 14, 24, 14],\n",
       "       [22, 14, 24, 14],\n",
       "       [22, 14, 24, 14],\n",
       "       [22, 14, 26, 14],\n",
       "       [22, 14, 26, 14],\n",
       "       [22, 14, 26, 14],\n",
       "       [22, 14, 26, 14],\n",
       "       [22, 14, 26, 16],\n",
       "       [22, 14, 26, 16],\n",
       "       [22, 14, 26, 16],\n",
       "       [22, 14, 26, 16],\n",
       "       [22, 14, 26, 16],\n",
       "       [22, 14, 26, 16],\n",
       "       [22, 14, 26, 16],\n",
       "       [22, 14, 26, 16],\n",
       "       [22, 14, 26, 20],\n",
       "       [22, 14, 26, 20],\n",
       "       [22, 14, 26, 20],\n",
       "       [22, 14, 26, 20],\n",
       "       [22, 14, 26, 23],\n",
       "       [22, 14, 26, 23],\n",
       "       [22, 14, 26, 23],\n",
       "       [22, 14, 26, 23],\n",
       "       [22, 14, 26, 23],\n",
       "       [22, 14, 26, 24],\n",
       "       [22, 14, 26, 24],\n",
       "       [22, 14, 26, 24],\n",
       "       [22, 14, 26, 24],\n",
       "       [22, 14, 27, 24],\n",
       "       [22, 14, 27, 24],\n",
       "       [22, 14, 27, 24],\n",
       "       [22, 14, 27, 24],\n",
       "       [22, 14, 27, 26],\n",
       "       [22, 14, 27, 26],\n",
       "       [22, 14, 27, 26],\n",
       "       [22, 14, 27, 26],\n",
       "       [22, 14, 27, 26],\n",
       "       [22, 14, 27, 27],\n",
       "       [22, 14, 27, 27],\n",
       "       [22, 14, 27, 27],\n",
       "       [22, 14, 27, 27],\n",
       "       [22, 14, 27, 33],\n",
       "       [22, 14, 27, 34],\n",
       "       [22, 14, 27, 34],\n",
       "       [22, 14, 27, 34],\n",
       "       [22, 14, 27, 34],\n",
       "       [22, 14, 27, 38],\n",
       "       [22, 14, 27, 14],\n",
       "       [22, 14, 27, 14],\n",
       "       [22, 14, 27, 14],\n",
       "       [22, 14, 27, 14],\n",
       "       [22, 14, 27, 14],\n",
       "       [22, 14, 27, 14],\n",
       "       [22, 14, 27, 14],\n",
       "       [22, 14, 27, 17],\n",
       "       [22, 14, 27, 17],\n",
       "       [22, 14, 27, 17],\n",
       "       [22, 14, 27, 17],\n",
       "       [22, 14, 33, 17],\n",
       "       [22, 14, 36, 17],\n",
       "       [22, 14, 36, 17],\n",
       "       [22, 14, 36, 17],\n",
       "       [22, 14, 36, 17],\n",
       "       [22, 14, 36, 22],\n",
       "       [22, 14, 36, 22],\n",
       "       [22, 14, 36, 22],\n",
       "       [22, 14, 36, 22],\n",
       "       [22, 14, 38, 22],\n",
       "       [22, 14, 14, 22],\n",
       "       [22, 14, 14, 22],\n",
       "       [22, 14, 14, 22],\n",
       "       [22, 14, 14, 22],\n",
       "       [28, 14, 14, 22],\n",
       "       [29, 14, 14, 22],\n",
       "       [29, 14, 14, 22],\n",
       "       [29, 14, 14, 22],\n",
       "       [29, 14, 14, 22],\n",
       "       [29, 14, 14, 22],\n",
       "       [32, 14, 14, 22],\n",
       "       [32, 14, 14, 22],\n",
       "       [32, 14, 14, 22],\n",
       "       [32, 14, 14, 22],\n",
       "       [32, 14, 14, 22],\n",
       "       [14, 14, 14, 22],\n",
       "       [14, 14, 14, 22],\n",
       "       [14, 14, 14, 22],\n",
       "       [14, 14, 14, 26],\n",
       "       [14, 14, 14, 26],\n",
       "       [14, 14, 14, 26],\n",
       "       [14, 14, 14, 26],\n",
       "       [14, 14, 14, 29],\n",
       "       [14, 14, 14, 29],\n",
       "       [14, 14, 14, 29],\n",
       "       [14, 14, 14, 29],\n",
       "       [14, 14, 14, 29],\n",
       "       [14, 14, 14, 35],\n",
       "       [14, 15, 14, 35],\n",
       "       [14, 15, 14, 35],\n",
       "       [14, 15, 14, 35],\n",
       "       [14, 15, 14, 35],\n",
       "       [14, 15, 14, 35],\n",
       "       [14, 21, 14, 35],\n",
       "       [14, 23, 14, 35],\n",
       "       [14, 23, 14, 35],\n",
       "       [14, 23, 14, 35]])"
      ]
     },
     "execution_count": 14,
     "metadata": {},
     "output_type": "execute_result"
    }
   ],
   "source": [
    "pos[:,12:16]"
   ]
  },
  {
   "cell_type": "code",
   "execution_count": 5,
   "metadata": {},
   "outputs": [],
   "source": [
    "action = np.argmax((pos[1:] - pos[:-1]), axis=-1) % 4"
   ]
  },
  {
   "cell_type": "code",
   "execution_count": 6,
   "metadata": {},
   "outputs": [],
   "source": [
    "home = (pos == 56).reshape(-1,4,4).sum(axis=2)\n",
    "start = np.zeros_like(home)\n",
    "\n",
    "last = np.expand_dims(start[:,0],-1)\n",
    "last = np.concatenate((last, np.expand_dims(home[:,0],-1)), -1)\n",
    "\n",
    "for i in range(1,4):\n",
    "    last = np.concatenate((last, np.expand_dims(start[:,i],-1)), -1)\n",
    "    last = np.concatenate((last, np.expand_dims(home[:,i],-1)), -1)"
   ]
  },
  {
   "cell_type": "code",
   "execution_count": 7,
   "metadata": {},
   "outputs": [],
   "source": [
    "pos = 56 - (-1*pos)\n",
    "states = np.concatenate((np.expand_dims(dice, -1), pos[:-1,:], last[:-1,:]), -1)"
   ]
  },
  {
   "cell_type": "code",
   "execution_count": 8,
   "metadata": {},
   "outputs": [
    {
     "name": "stderr",
     "output_type": "stream",
     "text": [
      "2022-09-14 13:13:34.193142: I tensorflow/compiler/jit/xla_cpu_device.cc:41] Not creating XLA devices, tf_xla_enable_xla_devices not set\n",
      "2022-09-14 13:13:34.194298: I tensorflow/stream_executor/platform/default/dso_loader.cc:49] Successfully opened dynamic library libcuda.so.1\n",
      "2022-09-14 13:13:34.351245: I tensorflow/stream_executor/cuda/cuda_gpu_executor.cc:941] successful NUMA node read from SysFS had negative value (-1), but there must be at least one NUMA node, so returning NUMA node zero\n",
      "2022-09-14 13:13:34.352162: I tensorflow/core/common_runtime/gpu/gpu_device.cc:1720] Found device 0 with properties: \n",
      "pciBusID: 0000:00:04.0 name: NVIDIA Tesla T4 computeCapability: 7.5\n",
      "coreClock: 1.59GHz coreCount: 40 deviceMemorySize: 14.75GiB deviceMemoryBandwidth: 298.08GiB/s\n",
      "2022-09-14 13:13:34.352264: I tensorflow/stream_executor/cuda/cuda_gpu_executor.cc:941] successful NUMA node read from SysFS had negative value (-1), but there must be at least one NUMA node, so returning NUMA node zero\n",
      "2022-09-14 13:13:34.353131: I tensorflow/core/common_runtime/gpu/gpu_device.cc:1720] Found device 1 with properties: \n",
      "pciBusID: 0000:00:05.0 name: NVIDIA Tesla T4 computeCapability: 7.5\n",
      "coreClock: 1.59GHz coreCount: 40 deviceMemorySize: 14.75GiB deviceMemoryBandwidth: 298.08GiB/s\n",
      "2022-09-14 13:13:34.353210: I tensorflow/stream_executor/cuda/cuda_gpu_executor.cc:941] successful NUMA node read from SysFS had negative value (-1), but there must be at least one NUMA node, so returning NUMA node zero\n",
      "2022-09-14 13:13:34.354062: I tensorflow/core/common_runtime/gpu/gpu_device.cc:1720] Found device 2 with properties: \n",
      "pciBusID: 0000:00:06.0 name: NVIDIA Tesla T4 computeCapability: 7.5\n",
      "coreClock: 1.59GHz coreCount: 40 deviceMemorySize: 14.75GiB deviceMemoryBandwidth: 298.08GiB/s\n",
      "2022-09-14 13:13:34.354121: I tensorflow/stream_executor/cuda/cuda_gpu_executor.cc:941] successful NUMA node read from SysFS had negative value (-1), but there must be at least one NUMA node, so returning NUMA node zero\n",
      "2022-09-14 13:13:34.355016: I tensorflow/core/common_runtime/gpu/gpu_device.cc:1720] Found device 3 with properties: \n",
      "pciBusID: 0000:00:07.0 name: NVIDIA Tesla T4 computeCapability: 7.5\n",
      "coreClock: 1.59GHz coreCount: 40 deviceMemorySize: 14.75GiB deviceMemoryBandwidth: 298.08GiB/s\n",
      "2022-09-14 13:13:34.355052: I tensorflow/stream_executor/platform/default/dso_loader.cc:49] Successfully opened dynamic library libcudart.so.10.1\n",
      "2022-09-14 13:13:34.357966: I tensorflow/stream_executor/platform/default/dso_loader.cc:49] Successfully opened dynamic library libcublas.so.10\n",
      "2022-09-14 13:13:34.358055: I tensorflow/stream_executor/platform/default/dso_loader.cc:49] Successfully opened dynamic library libcublasLt.so.10\n",
      "2022-09-14 13:13:34.360383: I tensorflow/stream_executor/platform/default/dso_loader.cc:49] Successfully opened dynamic library libcufft.so.10\n",
      "2022-09-14 13:13:34.361312: I tensorflow/stream_executor/platform/default/dso_loader.cc:49] Successfully opened dynamic library libcurand.so.10\n",
      "2022-09-14 13:13:34.363828: I tensorflow/stream_executor/platform/default/dso_loader.cc:49] Successfully opened dynamic library libcusolver.so.10\n",
      "2022-09-14 13:13:34.365509: I tensorflow/stream_executor/platform/default/dso_loader.cc:49] Successfully opened dynamic library libcusparse.so.10\n",
      "2022-09-14 13:13:34.370492: I tensorflow/stream_executor/platform/default/dso_loader.cc:49] Successfully opened dynamic library libcudnn.so.7\n",
      "2022-09-14 13:13:34.370627: I tensorflow/stream_executor/cuda/cuda_gpu_executor.cc:941] successful NUMA node read from SysFS had negative value (-1), but there must be at least one NUMA node, so returning NUMA node zero\n",
      "2022-09-14 13:13:34.371558: I tensorflow/stream_executor/cuda/cuda_gpu_executor.cc:941] successful NUMA node read from SysFS had negative value (-1), but there must be at least one NUMA node, so returning NUMA node zero\n",
      "2022-09-14 13:13:34.372445: I tensorflow/stream_executor/cuda/cuda_gpu_executor.cc:941] successful NUMA node read from SysFS had negative value (-1), but there must be at least one NUMA node, so returning NUMA node zero\n",
      "2022-09-14 13:13:34.373412: I tensorflow/stream_executor/cuda/cuda_gpu_executor.cc:941] successful NUMA node read from SysFS had negative value (-1), but there must be at least one NUMA node, so returning NUMA node zero\n",
      "2022-09-14 13:13:34.374325: I tensorflow/stream_executor/cuda/cuda_gpu_executor.cc:941] successful NUMA node read from SysFS had negative value (-1), but there must be at least one NUMA node, so returning NUMA node zero\n",
      "2022-09-14 13:13:34.375227: I tensorflow/stream_executor/cuda/cuda_gpu_executor.cc:941] successful NUMA node read from SysFS had negative value (-1), but there must be at least one NUMA node, so returning NUMA node zero\n",
      "2022-09-14 13:13:34.376151: I tensorflow/stream_executor/cuda/cuda_gpu_executor.cc:941] successful NUMA node read from SysFS had negative value (-1), but there must be at least one NUMA node, so returning NUMA node zero\n",
      "2022-09-14 13:13:34.377153: I tensorflow/stream_executor/cuda/cuda_gpu_executor.cc:941] successful NUMA node read from SysFS had negative value (-1), but there must be at least one NUMA node, so returning NUMA node zero\n",
      "2022-09-14 13:13:34.378124: I tensorflow/core/common_runtime/gpu/gpu_device.cc:1862] Adding visible gpu devices: 0, 1, 2, 3\n",
      "2022-09-14 13:13:34.378630: I tensorflow/core/platform/cpu_feature_guard.cc:142] This TensorFlow binary is optimized with oneAPI Deep Neural Network Library (oneDNN) to use the following CPU instructions in performance-critical operations:  SSE4.1 SSE4.2 AVX AVX2 FMA\n",
      "To enable them in other operations, rebuild TensorFlow with the appropriate compiler flags.\n",
      "2022-09-14 13:13:34.381575: I tensorflow/compiler/jit/xla_gpu_device.cc:99] Not creating XLA devices, tf_xla_enable_xla_devices not set\n",
      "2022-09-14 13:13:34.852022: I tensorflow/stream_executor/cuda/cuda_gpu_executor.cc:941] successful NUMA node read from SysFS had negative value (-1), but there must be at least one NUMA node, so returning NUMA node zero\n",
      "2022-09-14 13:13:34.852991: I tensorflow/core/common_runtime/gpu/gpu_device.cc:1720] Found device 0 with properties: \n",
      "pciBusID: 0000:00:04.0 name: NVIDIA Tesla T4 computeCapability: 7.5\n",
      "coreClock: 1.59GHz coreCount: 40 deviceMemorySize: 14.75GiB deviceMemoryBandwidth: 298.08GiB/s\n",
      "2022-09-14 13:13:34.853129: I tensorflow/stream_executor/cuda/cuda_gpu_executor.cc:941] successful NUMA node read from SysFS had negative value (-1), but there must be at least one NUMA node, so returning NUMA node zero\n",
      "2022-09-14 13:13:34.853977: I tensorflow/core/common_runtime/gpu/gpu_device.cc:1720] Found device 1 with properties: \n",
      "pciBusID: 0000:00:05.0 name: NVIDIA Tesla T4 computeCapability: 7.5\n",
      "coreClock: 1.59GHz coreCount: 40 deviceMemorySize: 14.75GiB deviceMemoryBandwidth: 298.08GiB/s\n",
      "2022-09-14 13:13:34.854040: I tensorflow/stream_executor/cuda/cuda_gpu_executor.cc:941] successful NUMA node read from SysFS had negative value (-1), but there must be at least one NUMA node, so returning NUMA node zero\n",
      "2022-09-14 13:13:34.854883: I tensorflow/core/common_runtime/gpu/gpu_device.cc:1720] Found device 2 with properties: \n",
      "pciBusID: 0000:00:06.0 name: NVIDIA Tesla T4 computeCapability: 7.5\n",
      "coreClock: 1.59GHz coreCount: 40 deviceMemorySize: 14.75GiB deviceMemoryBandwidth: 298.08GiB/s\n",
      "2022-09-14 13:13:34.854940: I tensorflow/stream_executor/cuda/cuda_gpu_executor.cc:941] successful NUMA node read from SysFS had negative value (-1), but there must be at least one NUMA node, so returning NUMA node zero\n",
      "2022-09-14 13:13:34.855775: I tensorflow/core/common_runtime/gpu/gpu_device.cc:1720] Found device 3 with properties: \n",
      "pciBusID: 0000:00:07.0 name: NVIDIA Tesla T4 computeCapability: 7.5\n",
      "coreClock: 1.59GHz coreCount: 40 deviceMemorySize: 14.75GiB deviceMemoryBandwidth: 298.08GiB/s\n",
      "2022-09-14 13:13:34.855818: I tensorflow/stream_executor/platform/default/dso_loader.cc:49] Successfully opened dynamic library libcudart.so.10.1\n",
      "2022-09-14 13:13:34.855849: I tensorflow/stream_executor/platform/default/dso_loader.cc:49] Successfully opened dynamic library libcublas.so.10\n",
      "2022-09-14 13:13:34.855862: I tensorflow/stream_executor/platform/default/dso_loader.cc:49] Successfully opened dynamic library libcublasLt.so.10\n",
      "2022-09-14 13:13:34.855876: I tensorflow/stream_executor/platform/default/dso_loader.cc:49] Successfully opened dynamic library libcufft.so.10\n",
      "2022-09-14 13:13:34.855888: I tensorflow/stream_executor/platform/default/dso_loader.cc:49] Successfully opened dynamic library libcurand.so.10\n",
      "2022-09-14 13:13:34.855900: I tensorflow/stream_executor/platform/default/dso_loader.cc:49] Successfully opened dynamic library libcusolver.so.10\n",
      "2022-09-14 13:13:34.855912: I tensorflow/stream_executor/platform/default/dso_loader.cc:49] Successfully opened dynamic library libcusparse.so.10\n",
      "2022-09-14 13:13:34.855924: I tensorflow/stream_executor/platform/default/dso_loader.cc:49] Successfully opened dynamic library libcudnn.so.7\n",
      "2022-09-14 13:13:34.855981: I tensorflow/stream_executor/cuda/cuda_gpu_executor.cc:941] successful NUMA node read from SysFS had negative value (-1), but there must be at least one NUMA node, so returning NUMA node zero\n",
      "2022-09-14 13:13:34.856941: I tensorflow/stream_executor/cuda/cuda_gpu_executor.cc:941] successful NUMA node read from SysFS had negative value (-1), but there must be at least one NUMA node, so returning NUMA node zero\n",
      "2022-09-14 13:13:34.857893: I tensorflow/stream_executor/cuda/cuda_gpu_executor.cc:941] successful NUMA node read from SysFS had negative value (-1), but there must be at least one NUMA node, so returning NUMA node zero\n",
      "2022-09-14 13:13:34.858860: I tensorflow/stream_executor/cuda/cuda_gpu_executor.cc:941] successful NUMA node read from SysFS had negative value (-1), but there must be at least one NUMA node, so returning NUMA node zero\n",
      "2022-09-14 13:13:34.859794: I tensorflow/stream_executor/cuda/cuda_gpu_executor.cc:941] successful NUMA node read from SysFS had negative value (-1), but there must be at least one NUMA node, so returning NUMA node zero\n",
      "2022-09-14 13:13:34.860670: I tensorflow/stream_executor/cuda/cuda_gpu_executor.cc:941] successful NUMA node read from SysFS had negative value (-1), but there must be at least one NUMA node, so returning NUMA node zero\n",
      "2022-09-14 13:13:34.861544: I tensorflow/stream_executor/cuda/cuda_gpu_executor.cc:941] successful NUMA node read from SysFS had negative value (-1), but there must be at least one NUMA node, so returning NUMA node zero\n",
      "2022-09-14 13:13:34.862413: I tensorflow/stream_executor/cuda/cuda_gpu_executor.cc:941] successful NUMA node read from SysFS had negative value (-1), but there must be at least one NUMA node, so returning NUMA node zero\n",
      "2022-09-14 13:13:34.863286: I tensorflow/core/common_runtime/gpu/gpu_device.cc:1862] Adding visible gpu devices: 0, 1, 2, 3\n",
      "2022-09-14 13:13:34.863369: I tensorflow/stream_executor/platform/default/dso_loader.cc:49] Successfully opened dynamic library libcudart.so.10.1\n",
      "2022-09-14 13:13:36.886994: I tensorflow/core/common_runtime/gpu/gpu_device.cc:1261] Device interconnect StreamExecutor with strength 1 edge matrix:\n",
      "2022-09-14 13:13:36.887050: I tensorflow/core/common_runtime/gpu/gpu_device.cc:1267]      0 1 2 3 \n",
      "2022-09-14 13:13:36.887058: I tensorflow/core/common_runtime/gpu/gpu_device.cc:1280] 0:   N Y N N \n",
      "2022-09-14 13:13:36.887063: I tensorflow/core/common_runtime/gpu/gpu_device.cc:1280] 1:   Y N N N \n",
      "2022-09-14 13:13:36.887067: I tensorflow/core/common_runtime/gpu/gpu_device.cc:1280] 2:   N N N Y \n",
      "2022-09-14 13:13:36.887071: I tensorflow/core/common_runtime/gpu/gpu_device.cc:1280] 3:   N N Y N \n",
      "2022-09-14 13:13:36.887468: I tensorflow/stream_executor/cuda/cuda_gpu_executor.cc:941] successful NUMA node read from SysFS had negative value (-1), but there must be at least one NUMA node, so returning NUMA node zero\n",
      "2022-09-14 13:13:36.888536: I tensorflow/stream_executor/cuda/cuda_gpu_executor.cc:941] successful NUMA node read from SysFS had negative value (-1), but there must be at least one NUMA node, so returning NUMA node zero\n",
      "2022-09-14 13:13:36.889550: I tensorflow/stream_executor/cuda/cuda_gpu_executor.cc:941] successful NUMA node read from SysFS had negative value (-1), but there must be at least one NUMA node, so returning NUMA node zero\n",
      "2022-09-14 13:13:36.890445: I tensorflow/stream_executor/cuda/cuda_gpu_executor.cc:941] successful NUMA node read from SysFS had negative value (-1), but there must be at least one NUMA node, so returning NUMA node zero\n",
      "2022-09-14 13:13:36.891324: I tensorflow/stream_executor/cuda/cuda_gpu_executor.cc:941] successful NUMA node read from SysFS had negative value (-1), but there must be at least one NUMA node, so returning NUMA node zero\n",
      "2022-09-14 13:13:36.892290: I tensorflow/stream_executor/cuda/cuda_gpu_executor.cc:941] successful NUMA node read from SysFS had negative value (-1), but there must be at least one NUMA node, so returning NUMA node zero\n",
      "2022-09-14 13:13:36.893191: I tensorflow/core/common_runtime/gpu/gpu_device.cc:1406] Created TensorFlow device (/job:localhost/replica:0/task:0/device:GPU:0 with 13912 MB memory) -> physical GPU (device: 0, name: NVIDIA Tesla T4, pci bus id: 0000:00:04.0, compute capability: 7.5)\n",
      "2022-09-14 13:13:36.893880: I tensorflow/stream_executor/cuda/cuda_gpu_executor.cc:941] successful NUMA node read from SysFS had negative value (-1), but there must be at least one NUMA node, so returning NUMA node zero\n",
      "2022-09-14 13:13:36.894773: I tensorflow/stream_executor/cuda/cuda_gpu_executor.cc:941] successful NUMA node read from SysFS had negative value (-1), but there must be at least one NUMA node, so returning NUMA node zero\n",
      "2022-09-14 13:13:36.895587: I tensorflow/core/common_runtime/gpu/gpu_device.cc:1406] Created TensorFlow device (/job:localhost/replica:0/task:0/device:GPU:1 with 13971 MB memory) -> physical GPU (device: 1, name: NVIDIA Tesla T4, pci bus id: 0000:00:05.0, compute capability: 7.5)\n",
      "2022-09-14 13:13:36.895975: I tensorflow/stream_executor/cuda/cuda_gpu_executor.cc:941] successful NUMA node read from SysFS had negative value (-1), but there must be at least one NUMA node, so returning NUMA node zero\n",
      "2022-09-14 13:13:36.897059: I tensorflow/stream_executor/cuda/cuda_gpu_executor.cc:941] successful NUMA node read from SysFS had negative value (-1), but there must be at least one NUMA node, so returning NUMA node zero\n",
      "2022-09-14 13:13:36.898000: I tensorflow/core/common_runtime/gpu/gpu_device.cc:1406] Created TensorFlow device (/job:localhost/replica:0/task:0/device:GPU:2 with 13971 MB memory) -> physical GPU (device: 2, name: NVIDIA Tesla T4, pci bus id: 0000:00:06.0, compute capability: 7.5)\n",
      "2022-09-14 13:13:36.898458: I tensorflow/stream_executor/cuda/cuda_gpu_executor.cc:941] successful NUMA node read from SysFS had negative value (-1), but there must be at least one NUMA node, so returning NUMA node zero\n",
      "2022-09-14 13:13:36.899467: I tensorflow/stream_executor/cuda/cuda_gpu_executor.cc:941] successful NUMA node read from SysFS had negative value (-1), but there must be at least one NUMA node, so returning NUMA node zero\n",
      "2022-09-14 13:13:36.900319: I tensorflow/core/common_runtime/gpu/gpu_device.cc:1406] Created TensorFlow device (/job:localhost/replica:0/task:0/device:GPU:3 with 13971 MB memory) -> physical GPU (device: 3, name: NVIDIA Tesla T4, pci bus id: 0000:00:07.0, compute capability: 7.5)\n"
     ]
    },
    {
     "name": "stdout",
     "output_type": "stream",
     "text": [
      "Model: \"sequential\"\n",
      "_________________________________________________________________\n",
      "Layer (type)                 Output Shape              Param #   \n",
      "=================================================================\n",
      "dense (Dense)                (None, 25, 32)            64        \n",
      "_________________________________________________________________\n",
      "dense_1 (Dense)              (None, 25, 16)            528       \n",
      "_________________________________________________________________\n",
      "flatten (Flatten)            (None, 400)               0         \n",
      "_________________________________________________________________\n",
      "dense_2 (Dense)              (None, 4)                 1604      \n",
      "=================================================================\n",
      "Total params: 2,196\n",
      "Trainable params: 2,196\n",
      "Non-trainable params: 0\n",
      "_________________________________________________________________\n"
     ]
    }
   ],
   "source": [
    "env = FullBoard()\n",
    "agent0 = DQNAgent(env.state_size(), env.action_size())\n",
    "\n",
    "agent0.load('./model_output/DQN_4p/0001/weights_0900.hdf5')"
   ]
  },
  {
   "cell_type": "code",
   "execution_count": 9,
   "metadata": {},
   "outputs": [
    {
     "name": "stderr",
     "output_type": "stream",
     "text": [
      "2022-09-14 13:13:37.650972: I tensorflow/compiler/mlir/mlir_graph_optimization_pass.cc:116] None of the MLIR optimization passes are enabled (registered 2)\n",
      "2022-09-14 13:13:37.651402: I tensorflow/core/platform/profile_utils/cpu_utils.cc:112] CPU Frequency: 2199995000 Hz\n",
      "2022-09-14 13:13:37.757707: I tensorflow/stream_executor/platform/default/dso_loader.cc:49] Successfully opened dynamic library libcublas.so.10\n"
     ]
    }
   ],
   "source": [
    "q = []\n",
    "\n",
    "for i in range (len(states)):\n",
    "    s = states[i,:]\n",
    "    s = env.convert_state(user_ids[i], s=s.tolist())\n",
    "    pred = np.squeeze(agent0.model.predict(np.reshape(s, [1,25,1])/62))\n",
    "    q.append(pred[action[i]])\n",
    "\n",
    "q = np.array(q)"
   ]
  },
  {
   "cell_type": "code",
   "execution_count": 10,
   "metadata": {},
   "outputs": [
    {
     "name": "stdout",
     "output_type": "stream",
     "text": [
      "[0.18343264, 0.2868495, 0.16391188, 0.1662589]\n"
     ]
    }
   ],
   "source": [
    "print([np.mean(q[user_ids==0]), np.mean(q[user_ids==1]), np.mean(q[user_ids==2]), np.mean(q[user_ids==3])])"
   ]
  },
  {
   "cell_type": "code",
   "execution_count": 11,
   "metadata": {},
   "outputs": [
    {
     "name": "stdout",
     "output_type": "stream",
     "text": [
      "[216 110 128  50]\n"
     ]
    }
   ],
   "source": [
    "print(score)"
   ]
  },
  {
   "cell_type": "code",
   "execution_count": 1,
   "metadata": {},
   "outputs": [],
   "source": [
    "from Boards.Full_Board import FullBoard\n",
    "env = FullBoard()\n",
    "\n",
    "s, _, game_over, player_turn = env.reset()"
   ]
  },
  {
   "cell_type": "code",
   "execution_count": 2,
   "metadata": {},
   "outputs": [],
   "source": [
    "s_ = env.convert_state(player_turn)"
   ]
  },
  {
   "cell_type": "code",
   "execution_count": 3,
   "metadata": {},
   "outputs": [
    {
     "data": {
      "text/plain": [
       "[5,\n",
       " 56,\n",
       " 56,\n",
       " 56,\n",
       " 56,\n",
       " 43,\n",
       " 43,\n",
       " 43,\n",
       " 43,\n",
       " 30,\n",
       " 30,\n",
       " 30,\n",
       " 30,\n",
       " 17,\n",
       " 17,\n",
       " 17,\n",
       " 17,\n",
       " 0,\n",
       " 0,\n",
       " 0,\n",
       " 0,\n",
       " 0,\n",
       " 0,\n",
       " 0,\n",
       " 0]"
      ]
     },
     "execution_count": 3,
     "metadata": {},
     "output_type": "execute_result"
    }
   ],
   "source": [
    "s_"
   ]
  },
  {
   "cell_type": "code",
   "execution_count": 4,
   "metadata": {},
   "outputs": [
    {
     "data": {
      "text/plain": [
       "[5,\n",
       " 56,\n",
       " 56,\n",
       " 56,\n",
       " 56,\n",
       " 56,\n",
       " 56,\n",
       " 56,\n",
       " 56,\n",
       " 56,\n",
       " 56,\n",
       " 56,\n",
       " 56,\n",
       " 56,\n",
       " 56,\n",
       " 56,\n",
       " 56,\n",
       " 0,\n",
       " 0,\n",
       " 0,\n",
       " 0,\n",
       " 0,\n",
       " 0,\n",
       " 0,\n",
       " 0]"
      ]
     },
     "execution_count": 4,
     "metadata": {},
     "output_type": "execute_result"
    }
   ],
   "source": [
    "s"
   ]
  },
  {
   "cell_type": "code",
   "execution_count": 41,
   "metadata": {},
   "outputs": [],
   "source": [
    "state = [1, 5, 55, 15, 20, 25, 30, 35, 40, 45, 55, 50, 60, 65, 70, 75, 80, 0, 0, 0, 0]\n",
    "players = 4\n",
    "pieces = 4\n",
    "pos = 55\n",
    "p = 0"
   ]
  },
  {
   "cell_type": "code",
   "execution_count": 42,
   "metadata": {},
   "outputs": [],
   "source": [
    "b = [i for i, e in enumerate(state) if e == pos and i > 0 and i < (players * pieces + 1) \n",
    "                            and int((i-1) / pieces) != p]"
   ]
  },
  {
   "cell_type": "code",
   "execution_count": 22,
   "metadata": {},
   "outputs": [],
   "source": [
    "b = [i for i, e in enumerate(a) if e == 4]"
   ]
  },
  {
   "cell_type": "code",
   "execution_count": 23,
   "metadata": {},
   "outputs": [
    {
     "data": {
      "text/plain": [
       "True"
      ]
     },
     "execution_count": 23,
     "metadata": {},
     "output_type": "execute_result"
    }
   ],
   "source": [
    "b == []"
   ]
  },
  {
   "cell_type": "code",
   "execution_count": 36,
   "metadata": {},
   "outputs": [
    {
     "data": {
      "text/plain": [
       "0"
      ]
     },
     "execution_count": 36,
     "metadata": {},
     "output_type": "execute_result"
    }
   ],
   "source": [
    "len([])"
   ]
  },
  {
   "cell_type": "code",
   "execution_count": 43,
   "metadata": {},
   "outputs": [
    {
     "data": {
      "text/plain": [
       "10"
      ]
     },
     "execution_count": 43,
     "metadata": {},
     "output_type": "execute_result"
    }
   ],
   "source": [
    "b[0]"
   ]
  },
  {
   "cell_type": "code",
   "execution_count": 47,
   "metadata": {},
   "outputs": [
    {
     "data": {
      "text/plain": [
       "[]"
      ]
     },
     "execution_count": 47,
     "metadata": {},
     "output_type": "execute_result"
    }
   ],
   "source": [
    "[i for i, e in enumerate([0, 0, 0, 0]) if e == 4]"
   ]
  },
  {
   "cell_type": "code",
   "execution_count": 49,
   "metadata": {},
   "outputs": [
    {
     "data": {
      "text/plain": [
       "False"
      ]
     },
     "execution_count": 49,
     "metadata": {},
     "output_type": "execute_result"
    }
   ],
   "source": [
    "1 in [2,2,3]"
   ]
  },
  {
   "cell_type": "code",
   "execution_count": 1,
   "metadata": {},
   "outputs": [],
   "source": [
    "a = [1,2,3]"
   ]
  },
  {
   "cell_type": "code",
   "execution_count": 2,
   "metadata": {},
   "outputs": [],
   "source": [
    "a[2] += 2"
   ]
  },
  {
   "cell_type": "code",
   "execution_count": 3,
   "metadata": {},
   "outputs": [
    {
     "data": {
      "text/plain": [
       "[1, 2, 5]"
      ]
     },
     "execution_count": 3,
     "metadata": {},
     "output_type": "execute_result"
    }
   ],
   "source": [
    "a"
   ]
  },
  {
   "cell_type": "code",
   "execution_count": null,
   "metadata": {},
   "outputs": [],
   "source": []
  }
 ],
 "metadata": {
  "kernelspec": {
   "display_name": "Python 3.9.12 ('base': conda)",
   "language": "python",
   "name": "python3"
  },
  "language_info": {
   "codemirror_mode": {
    "name": "ipython",
    "version": 3
   },
   "file_extension": ".py",
   "mimetype": "text/x-python",
   "name": "python",
   "nbconvert_exporter": "python",
   "pygments_lexer": "ipython3",
   "version": "3.9.12"
  },
  "orig_nbformat": 4,
  "vscode": {
   "interpreter": {
    "hash": "f44b79a3083351f69b3e1c3080f8b68c85400f1e3f9274646c7d9776fff2bccb"
   }
  }
 },
 "nbformat": 4,
 "nbformat_minor": 2
}
