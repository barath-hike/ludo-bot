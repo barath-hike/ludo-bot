{
 "cells": [
  {
   "cell_type": "code",
   "execution_count": 1,
   "metadata": {},
   "outputs": [],
   "source": [
    "import pandas as pd\n",
    "import pickle\n",
    "import numpy as np\n",
    "import tqdm\n",
    "\n",
    "get_all_games = 0\n",
    "start_val = 500"
   ]
  },
  {
   "cell_type": "code",
   "execution_count": 2,
   "metadata": {},
   "outputs": [],
   "source": [
    "if get_all_games:\n",
    "    query = \"\"\"\n",
    "    select distinct game_ref_id, date from (\n",
    "    select distinct game_ref_id, updated_timestamp, dt as date\n",
    "    from `analytics-156605.rush_app_bi.transactions_ledger_extended_full`\n",
    "    where transaction_sub_category = 'TotalFee' and transaction_category = 'GamePlay' and platform = 'cashApp' and transaction_status = 'SUCCESS' and dt between \"2022-09-11\" and \"2022-09-15\" and game_ref_id like 'LUDO%' and amount=3\n",
    "    order by updated_timestamp)\n",
    "    \"\"\"\n",
    "\n",
    "    all_games = pd.read_gbq(query, use_bqstorage_api=True)\n",
    "\n",
    "    all_games = all_games.to_dict('records')\n",
    "\n",
    "    with open('../data/all_games_11_to_15.pkl', 'wb') as f:\n",
    "        pickle.dump(all_games, f)\n",
    "\n",
    "else:\n",
    "\n",
    "    with open('../data/all_games_11_to_15.pkl', 'rb') as f:\n",
    "        all_games = pickle.load(f)"
   ]
  },
  {
   "cell_type": "code",
   "execution_count": 3,
   "metadata": {},
   "outputs": [],
   "source": [
    "with open('../data/delta_q_11_to_15.pkl', 'rb') as f:\n",
    "    data = pickle.load(f)"
   ]
  },
  {
   "cell_type": "code",
   "execution_count": 4,
   "metadata": {},
   "outputs": [
    {
     "name": "stderr",
     "output_type": "stream",
     "text": [
      "100%|██████████| 1441200/1441200 [00:13<00:00, 110264.50it/s]\n"
     ]
    }
   ],
   "source": [
    "live_scores = {}\n",
    "live_scores1 = {}\n",
    "\n",
    "for d in tqdm.tqdm(all_games):\n",
    "    if d['game_ref_id'] in data and 'delta_q_1' in data[d['game_ref_id']]:\n",
    "        dat = data[d['game_ref_id']]\n",
    "        win = dat['score'][0] > dat['score'][1]\n",
    "        pred = dat['delta_q_0'] > dat['delta_q_1']\n",
    "\n",
    "        if dat['user_id_0'] not in live_scores:\n",
    "            live_scores[dat['user_id_0']] = start_val\n",
    "        if dat['user_id_1'] not in live_scores:\n",
    "            live_scores[dat['user_id_1']] = start_val\n",
    "        if dat['user_id_0'] not in live_scores1:\n",
    "            live_scores1[dat['user_id_0']] = start_val\n",
    "        if dat['user_id_1'] not in live_scores1:\n",
    "            live_scores1[dat['user_id_1']] = start_val\n",
    "\n",
    "        data[d['game_ref_id']]['q_score_0'] = live_scores[dat['user_id_0']]\n",
    "        data[d['game_ref_id']]['q_score_1'] = live_scores[dat['user_id_1']]\n",
    "        data[d['game_ref_id']]['score_score_0'] = live_scores1[dat['user_id_0']]\n",
    "        data[d['game_ref_id']]['score_score_1'] = live_scores1[dat['user_id_1']]\n",
    "\n",
    "        data[d['game_ref_id']]['dt'] = str(d['date'])\n",
    "\n",
    "        if win == pred:\n",
    "            live_scores[dat['user_id_0']] += dat['delta_q_0']\n",
    "            live_scores[dat['user_id_1']] += dat['delta_q_1']\n",
    "\n",
    "        live_scores1[dat['user_id_0']] += (dat['score'][0] - dat['score'][1])\n",
    "        live_scores1[dat['user_id_1']] += (dat['score'][1] - dat['score'][0])"
   ]
  },
  {
   "cell_type": "code",
   "execution_count": 5,
   "metadata": {},
   "outputs": [
    {
     "name": "stderr",
     "output_type": "stream",
     "text": [
      "100%|██████████| 916750/916750 [00:06<00:00, 141819.98it/s]\n"
     ]
    }
   ],
   "source": [
    "win = []\n",
    "q_pred = []\n",
    "skill_pred = []\n",
    "q_score_0 = []\n",
    "q_score_1 = []\n",
    "\n",
    "feats = []\n",
    "feats_test = []\n",
    "y = []\n",
    "y_test = []\n",
    "\n",
    "for dat in tqdm.tqdm(data):\n",
    "    if 'delta_q_1' in data[dat]:\n",
    "        if data[dat]['dt'] == '2022-09-15':\n",
    "            win.append(data[dat]['score'][0] > data[dat]['score'][1])\n",
    "            q_pred.append(data[dat]['q_score_0'] > data[dat]['q_score_1'])\n",
    "            skill_pred.append((data[dat]['mu_0'] - 3*data[dat]['sigma_0']) > (data[dat]['mu_1'] - 3*data[dat]['sigma_1']))\n",
    "\n",
    "            q_score_0.append(data[dat]['score_score_0'])\n",
    "            q_score_1.append(data[dat]['score_score_1'])\n",
    "\n",
    "        if data[dat]['dt'] != '2022-09-15':\n",
    "            # feats.append([data[dat]['mu_0'], data[dat]['sigma_0'], data[dat]['q_score_0'], data[dat]['score_score_0'], \n",
    "            #                 data[dat]['mu_1'], data[dat]['sigma_1'], data[dat]['q_score_1'], data[dat]['score_score_1']])\n",
    "            y.append(data[dat]['score'][0] > data[dat]['score'][1])\n",
    "            # feats.append([data[dat]['mu_0'], data[dat]['sigma_0'], data[dat]['score_score_0'], \n",
    "            #                 data[dat]['mu_1'], data[dat]['sigma_1'], data[dat]['score_score_1']])\n",
    "            feats.append([data[dat]['mu_0'], data[dat]['sigma_0'], data[dat]['q_score_0'], \n",
    "                            data[dat]['mu_1'], data[dat]['sigma_1'], data[dat]['q_score_1']])\n",
    "        else:\n",
    "            # feats_test.append([data[dat]['mu_0'], data[dat]['sigma_0'], data[dat]['q_score_0'], data[dat]['score_score_0'], \n",
    "            #                 data[dat]['mu_1'], data[dat]['sigma_1'], data[dat]['q_score_1'], data[dat]['score_score_1']])\n",
    "            y_test.append(data[dat]['score'][0] > data[dat]['score'][1])\n",
    "            # feats_test.append([data[dat]['mu_0'], data[dat]['sigma_0'], data[dat]['score_score_0'], \n",
    "            #                 data[dat]['mu_1'], data[dat]['sigma_1'], data[dat]['score_score_1']])\n",
    "            feats_test.append([data[dat]['mu_0'], data[dat]['sigma_0'], data[dat]['q_score_0'], \n",
    "                            data[dat]['mu_1'], data[dat]['sigma_1'], data[dat]['q_score_1']])"
   ]
  },
  {
   "cell_type": "code",
   "execution_count": 6,
   "metadata": {},
   "outputs": [],
   "source": [
    "win = np.array(win).astype('int32')\n",
    "q_pred = np.array(q_pred).astype('int32')\n",
    "skill_pred = np.array(skill_pred).astype('int32')\n",
    "\n",
    "feats = np.array(feats)\n",
    "feats_test = np.array(feats_test)\n",
    "y = np.array(y)\n",
    "y_test = np.array(y_test)"
   ]
  },
  {
   "cell_type": "code",
   "execution_count": 7,
   "metadata": {},
   "outputs": [
    {
     "data": {
      "text/plain": [
       "0.4848656356987887"
      ]
     },
     "execution_count": 7,
     "metadata": {},
     "output_type": "execute_result"
    }
   ],
   "source": [
    "np.sum(win == skill_pred)/len(win)"
   ]
  },
  {
   "cell_type": "code",
   "execution_count": 8,
   "metadata": {},
   "outputs": [
    {
     "data": {
      "text/plain": [
       "49.7644532485476"
      ]
     },
     "execution_count": 8,
     "metadata": {},
     "output_type": "execute_result"
    }
   ],
   "source": [
    "np.sum(win == q_pred)*100/len(win)"
   ]
  },
  {
   "cell_type": "code",
   "execution_count": 9,
   "metadata": {},
   "outputs": [],
   "source": [
    "q_score_0 = np.array(q_score_0)\n",
    "q_score_1 = np.array(q_score_1)\n",
    "\n",
    "bins = np.abs(q_score_0 - q_score_1)"
   ]
  },
  {
   "cell_type": "code",
   "execution_count": 10,
   "metadata": {},
   "outputs": [],
   "source": [
    "u1 = []\n",
    "tot = []\n",
    "for i in range(25):\n",
    "    idx = np.logical_and(bins>i*200, bins<(i+1)*200)\n",
    "    temp = win[idx]\n",
    "    u1.append(np.sum(temp[q_score_0[idx]>q_score_1[idx]]) + np.sum(temp[q_score_0[idx]<q_score_1[idx]]==0))\n",
    "    tot.append(len(q_score_0[idx]))"
   ]
  },
  {
   "cell_type": "code",
   "execution_count": 11,
   "metadata": {},
   "outputs": [
    {
     "data": {
      "text/html": [
       "<div>\n",
       "<style scoped>\n",
       "    .dataframe tbody tr th:only-of-type {\n",
       "        vertical-align: middle;\n",
       "    }\n",
       "\n",
       "    .dataframe tbody tr th {\n",
       "        vertical-align: top;\n",
       "    }\n",
       "\n",
       "    .dataframe thead th {\n",
       "        text-align: right;\n",
       "    }\n",
       "</style>\n",
       "<table border=\"1\" class=\"dataframe\">\n",
       "  <thead>\n",
       "    <tr style=\"text-align: right;\">\n",
       "      <th></th>\n",
       "      <th>1</th>\n",
       "      <th>2</th>\n",
       "    </tr>\n",
       "  </thead>\n",
       "  <tbody>\n",
       "    <tr>\n",
       "      <th>0</th>\n",
       "      <td>27066</td>\n",
       "      <td>53818</td>\n",
       "    </tr>\n",
       "    <tr>\n",
       "      <th>1</th>\n",
       "      <td>18912</td>\n",
       "      <td>37497</td>\n",
       "    </tr>\n",
       "    <tr>\n",
       "      <th>2</th>\n",
       "      <td>12114</td>\n",
       "      <td>24202</td>\n",
       "    </tr>\n",
       "    <tr>\n",
       "      <th>3</th>\n",
       "      <td>7962</td>\n",
       "      <td>15620</td>\n",
       "    </tr>\n",
       "    <tr>\n",
       "      <th>4</th>\n",
       "      <td>5222</td>\n",
       "      <td>10200</td>\n",
       "    </tr>\n",
       "    <tr>\n",
       "      <th>5</th>\n",
       "      <td>3547</td>\n",
       "      <td>6976</td>\n",
       "    </tr>\n",
       "    <tr>\n",
       "      <th>6</th>\n",
       "      <td>2443</td>\n",
       "      <td>4720</td>\n",
       "    </tr>\n",
       "    <tr>\n",
       "      <th>7</th>\n",
       "      <td>1669</td>\n",
       "      <td>3274</td>\n",
       "    </tr>\n",
       "    <tr>\n",
       "      <th>8</th>\n",
       "      <td>1207</td>\n",
       "      <td>2324</td>\n",
       "    </tr>\n",
       "    <tr>\n",
       "      <th>9</th>\n",
       "      <td>857</td>\n",
       "      <td>1638</td>\n",
       "    </tr>\n",
       "    <tr>\n",
       "      <th>10</th>\n",
       "      <td>595</td>\n",
       "      <td>1168</td>\n",
       "    </tr>\n",
       "    <tr>\n",
       "      <th>11</th>\n",
       "      <td>468</td>\n",
       "      <td>881</td>\n",
       "    </tr>\n",
       "    <tr>\n",
       "      <th>12</th>\n",
       "      <td>333</td>\n",
       "      <td>631</td>\n",
       "    </tr>\n",
       "    <tr>\n",
       "      <th>13</th>\n",
       "      <td>268</td>\n",
       "      <td>507</td>\n",
       "    </tr>\n",
       "    <tr>\n",
       "      <th>14</th>\n",
       "      <td>197</td>\n",
       "      <td>397</td>\n",
       "    </tr>\n",
       "    <tr>\n",
       "      <th>15</th>\n",
       "      <td>124</td>\n",
       "      <td>269</td>\n",
       "    </tr>\n",
       "    <tr>\n",
       "      <th>16</th>\n",
       "      <td>109</td>\n",
       "      <td>216</td>\n",
       "    </tr>\n",
       "    <tr>\n",
       "      <th>17</th>\n",
       "      <td>92</td>\n",
       "      <td>149</td>\n",
       "    </tr>\n",
       "    <tr>\n",
       "      <th>18</th>\n",
       "      <td>73</td>\n",
       "      <td>124</td>\n",
       "    </tr>\n",
       "    <tr>\n",
       "      <th>19</th>\n",
       "      <td>47</td>\n",
       "      <td>85</td>\n",
       "    </tr>\n",
       "    <tr>\n",
       "      <th>20</th>\n",
       "      <td>45</td>\n",
       "      <td>76</td>\n",
       "    </tr>\n",
       "    <tr>\n",
       "      <th>21</th>\n",
       "      <td>24</td>\n",
       "      <td>51</td>\n",
       "    </tr>\n",
       "    <tr>\n",
       "      <th>22</th>\n",
       "      <td>31</td>\n",
       "      <td>53</td>\n",
       "    </tr>\n",
       "    <tr>\n",
       "      <th>23</th>\n",
       "      <td>16</td>\n",
       "      <td>33</td>\n",
       "    </tr>\n",
       "    <tr>\n",
       "      <th>24</th>\n",
       "      <td>16</td>\n",
       "      <td>32</td>\n",
       "    </tr>\n",
       "  </tbody>\n",
       "</table>\n",
       "</div>"
      ],
      "text/plain": [
       "        1      2\n",
       "0   27066  53818\n",
       "1   18912  37497\n",
       "2   12114  24202\n",
       "3    7962  15620\n",
       "4    5222  10200\n",
       "5    3547   6976\n",
       "6    2443   4720\n",
       "7    1669   3274\n",
       "8    1207   2324\n",
       "9     857   1638\n",
       "10    595   1168\n",
       "11    468    881\n",
       "12    333    631\n",
       "13    268    507\n",
       "14    197    397\n",
       "15    124    269\n",
       "16    109    216\n",
       "17     92    149\n",
       "18     73    124\n",
       "19     47     85\n",
       "20     45     76\n",
       "21     24     51\n",
       "22     31     53\n",
       "23     16     33\n",
       "24     16     32"
      ]
     },
     "execution_count": 11,
     "metadata": {},
     "output_type": "execute_result"
    }
   ],
   "source": [
    "import pandas as pd\n",
    "pd.DataFrame(np.array([u1, tot]).T, columns=['1', '2'])"
   ]
  },
  {
   "cell_type": "code",
   "execution_count": 12,
   "metadata": {},
   "outputs": [],
   "source": [
    "from sklearn.preprocessing import StandardScaler\n",
    "from sklearn.pipeline import Pipeline\n",
    "from sklearn.linear_model import LogisticRegression\n",
    "from sklearn.ensemble import GradientBoostingClassifier"
   ]
  },
  {
   "cell_type": "code",
   "execution_count": 13,
   "metadata": {},
   "outputs": [
    {
     "name": "stdout",
     "output_type": "stream",
     "text": [
      "      Iter       Train Loss   Remaining Time \n",
      "         1           1.3797            3.73m\n",
      "         2           1.3792            3.73m\n",
      "         3           1.3788            3.65m\n",
      "         4           1.3784            3.61m\n",
      "         5           1.3780            3.56m\n",
      "         6           1.3777            3.52m\n",
      "         7           1.3774            3.48m\n",
      "         8           1.3772            3.44m\n",
      "         9           1.3768            3.39m\n",
      "        10           1.3766            3.35m\n",
      "        20           1.3747            2.97m\n",
      "        30           1.3735            2.58m\n",
      "        40           1.3727            2.19m\n",
      "        50           1.3722            1.83m\n",
      "        60           1.3717            1.46m\n",
      "        70           1.3714            1.09m\n",
      "        80           1.3711           43.58s\n",
      "        90           1.3709           21.78s\n",
      "       100           1.3707            0.00s\n"
     ]
    }
   ],
   "source": [
    "clf = Pipeline([('scaler', StandardScaler()), ('gbc', GradientBoostingClassifier(random_state=42, verbose=1))])\n",
    "# clf = Pipeline([('scaler', StandardScaler()), ('gbc', LogisticRegression(random_state=42, verbose=1))])\n",
    "clf = clf.fit(feats, y)"
   ]
  },
  {
   "cell_type": "code",
   "execution_count": 14,
   "metadata": {},
   "outputs": [],
   "source": [
    "y_pred = clf.predict(feats_test)\n",
    "y_probs = clf.predict_proba(feats_test)"
   ]
  },
  {
   "cell_type": "code",
   "execution_count": 15,
   "metadata": {},
   "outputs": [],
   "source": [
    "from sklearn.metrics import accuracy_score, precision_score, recall_score, confusion_matrix, ConfusionMatrixDisplay\n",
    "\n",
    "def perf(ytrue, ypred):\n",
    "    accu = accuracy_score(ytrue, ypred)\n",
    "    prec = precision_score(ytrue, ypred)\n",
    "    rec = recall_score(ytrue, ypred)\n",
    "    return accu*100, prec*100, rec*100"
   ]
  },
  {
   "cell_type": "code",
   "execution_count": 16,
   "metadata": {},
   "outputs": [
    {
     "name": "stdout",
     "output_type": "stream",
     "text": [
      "54.52199823548016 54.91109795458452 88.56852416597357\n"
     ]
    }
   ],
   "source": [
    "acc, precision, recall = perf(y_test, y_pred)\n",
    "print(acc, precision, recall)"
   ]
  },
  {
   "cell_type": "code",
   "execution_count": 17,
   "metadata": {},
   "outputs": [],
   "source": [
    "bins = np.abs(y_probs[:,1]-0.5)"
   ]
  },
  {
   "cell_type": "code",
   "execution_count": 18,
   "metadata": {},
   "outputs": [],
   "source": [
    "u1 = []\n",
    "tot = []\n",
    "for i in range(25):\n",
    "    idx = np.logical_and(bins>i*0.05, bins<(i+1)*0.05)\n",
    "    temp = y_test[idx]\n",
    "    u1.append(np.sum(temp[y_probs[:,1][idx]>=0.5]==1) + np.sum(temp[y_probs[:,1][idx]<0.5]==0))\n",
    "    tot.append(len(y_test[idx]))"
   ]
  },
  {
   "cell_type": "code",
   "execution_count": 19,
   "metadata": {},
   "outputs": [
    {
     "data": {
      "text/html": [
       "<div>\n",
       "<style scoped>\n",
       "    .dataframe tbody tr th:only-of-type {\n",
       "        vertical-align: middle;\n",
       "    }\n",
       "\n",
       "    .dataframe tbody tr th {\n",
       "        vertical-align: top;\n",
       "    }\n",
       "\n",
       "    .dataframe thead th {\n",
       "        text-align: right;\n",
       "    }\n",
       "</style>\n",
       "<table border=\"1\" class=\"dataframe\">\n",
       "  <thead>\n",
       "    <tr style=\"text-align: right;\">\n",
       "      <th></th>\n",
       "      <th>1</th>\n",
       "      <th>2</th>\n",
       "    </tr>\n",
       "  </thead>\n",
       "  <tbody>\n",
       "    <tr>\n",
       "      <th>0</th>\n",
       "      <td>60264</td>\n",
       "      <td>114394</td>\n",
       "    </tr>\n",
       "    <tr>\n",
       "      <th>1</th>\n",
       "      <td>30288</td>\n",
       "      <td>53439</td>\n",
       "    </tr>\n",
       "    <tr>\n",
       "      <th>2</th>\n",
       "      <td>6115</td>\n",
       "      <td>9987</td>\n",
       "    </tr>\n",
       "    <tr>\n",
       "      <th>3</th>\n",
       "      <td>1502</td>\n",
       "      <td>2274</td>\n",
       "    </tr>\n",
       "    <tr>\n",
       "      <th>4</th>\n",
       "      <td>87</td>\n",
       "      <td>122</td>\n",
       "    </tr>\n",
       "    <tr>\n",
       "      <th>5</th>\n",
       "      <td>3</td>\n",
       "      <td>3</td>\n",
       "    </tr>\n",
       "    <tr>\n",
       "      <th>6</th>\n",
       "      <td>0</td>\n",
       "      <td>0</td>\n",
       "    </tr>\n",
       "    <tr>\n",
       "      <th>7</th>\n",
       "      <td>0</td>\n",
       "      <td>0</td>\n",
       "    </tr>\n",
       "    <tr>\n",
       "      <th>8</th>\n",
       "      <td>0</td>\n",
       "      <td>0</td>\n",
       "    </tr>\n",
       "    <tr>\n",
       "      <th>9</th>\n",
       "      <td>0</td>\n",
       "      <td>0</td>\n",
       "    </tr>\n",
       "    <tr>\n",
       "      <th>10</th>\n",
       "      <td>0</td>\n",
       "      <td>0</td>\n",
       "    </tr>\n",
       "    <tr>\n",
       "      <th>11</th>\n",
       "      <td>0</td>\n",
       "      <td>0</td>\n",
       "    </tr>\n",
       "    <tr>\n",
       "      <th>12</th>\n",
       "      <td>0</td>\n",
       "      <td>0</td>\n",
       "    </tr>\n",
       "    <tr>\n",
       "      <th>13</th>\n",
       "      <td>0</td>\n",
       "      <td>0</td>\n",
       "    </tr>\n",
       "    <tr>\n",
       "      <th>14</th>\n",
       "      <td>0</td>\n",
       "      <td>0</td>\n",
       "    </tr>\n",
       "    <tr>\n",
       "      <th>15</th>\n",
       "      <td>0</td>\n",
       "      <td>0</td>\n",
       "    </tr>\n",
       "    <tr>\n",
       "      <th>16</th>\n",
       "      <td>0</td>\n",
       "      <td>0</td>\n",
       "    </tr>\n",
       "    <tr>\n",
       "      <th>17</th>\n",
       "      <td>0</td>\n",
       "      <td>0</td>\n",
       "    </tr>\n",
       "    <tr>\n",
       "      <th>18</th>\n",
       "      <td>0</td>\n",
       "      <td>0</td>\n",
       "    </tr>\n",
       "    <tr>\n",
       "      <th>19</th>\n",
       "      <td>0</td>\n",
       "      <td>0</td>\n",
       "    </tr>\n",
       "    <tr>\n",
       "      <th>20</th>\n",
       "      <td>0</td>\n",
       "      <td>0</td>\n",
       "    </tr>\n",
       "    <tr>\n",
       "      <th>21</th>\n",
       "      <td>0</td>\n",
       "      <td>0</td>\n",
       "    </tr>\n",
       "    <tr>\n",
       "      <th>22</th>\n",
       "      <td>0</td>\n",
       "      <td>0</td>\n",
       "    </tr>\n",
       "    <tr>\n",
       "      <th>23</th>\n",
       "      <td>0</td>\n",
       "      <td>0</td>\n",
       "    </tr>\n",
       "    <tr>\n",
       "      <th>24</th>\n",
       "      <td>0</td>\n",
       "      <td>0</td>\n",
       "    </tr>\n",
       "  </tbody>\n",
       "</table>\n",
       "</div>"
      ],
      "text/plain": [
       "        1       2\n",
       "0   60264  114394\n",
       "1   30288   53439\n",
       "2    6115    9987\n",
       "3    1502    2274\n",
       "4      87     122\n",
       "5       3       3\n",
       "6       0       0\n",
       "7       0       0\n",
       "8       0       0\n",
       "9       0       0\n",
       "10      0       0\n",
       "11      0       0\n",
       "12      0       0\n",
       "13      0       0\n",
       "14      0       0\n",
       "15      0       0\n",
       "16      0       0\n",
       "17      0       0\n",
       "18      0       0\n",
       "19      0       0\n",
       "20      0       0\n",
       "21      0       0\n",
       "22      0       0\n",
       "23      0       0\n",
       "24      0       0"
      ]
     },
     "execution_count": 19,
     "metadata": {},
     "output_type": "execute_result"
    }
   ],
   "source": [
    "pd.DataFrame(np.array([u1, tot]).T, columns=['1', '2'])"
   ]
  },
  {
   "cell_type": "code",
   "execution_count": 20,
   "metadata": {},
   "outputs": [
    {
     "name": "stderr",
     "output_type": "stream",
     "text": [
      "[Parallel(n_jobs=1)]: Using backend SequentialBackend with 1 concurrent workers.\n",
      " This problem is unconstrained.\n"
     ]
    },
    {
     "name": "stdout",
     "output_type": "stream",
     "text": [
      "RUNNING THE L-BFGS-B CODE\n",
      "\n",
      "           * * *\n",
      "\n",
      "Machine precision = 2.220D-16\n",
      " N =            7     M =           10\n",
      "\n",
      "At X0         0 variables are exactly at the bounds\n",
      "\n",
      "At iterate    0    f=  4.92586D+05    |proj g|=  2.76765D+04\n",
      "\n",
      "           * * *\n",
      "\n",
      "Tit   = total number of iterations\n",
      "Tnf   = total number of function evaluations\n",
      "Tnint = total number of segments explored during Cauchy searches\n",
      "Skip  = number of BFGS updates skipped\n",
      "Nact  = number of active bounds at final generalized Cauchy point\n",
      "Projg = norm of the final projected gradient\n",
      "F     = final function value\n",
      "\n",
      "           * * *\n",
      "\n",
      "   N    Tit     Tnf  Tnint  Skip  Nact     Projg        F\n",
      "    7      7      9      1     0     0   1.145D+00   4.891D+05\n",
      "  F =   489135.41040046175     \n",
      "\n",
      "CONVERGENCE: REL_REDUCTION_OF_F_<=_FACTR*EPSMCH             \n"
     ]
    },
    {
     "name": "stderr",
     "output_type": "stream",
     "text": [
      "[Parallel(n_jobs=1)]: Done   1 out of   1 | elapsed:    0.6s finished\n"
     ]
    }
   ],
   "source": [
    "clf = Pipeline([('scaler', StandardScaler()), ('gbc', LogisticRegression(random_state=42, verbose=1))])\n",
    "clf = clf.fit(feats, y)"
   ]
  },
  {
   "cell_type": "code",
   "execution_count": 21,
   "metadata": {},
   "outputs": [],
   "source": [
    "y_pred = clf.predict(feats_test)\n",
    "y_probs = clf.predict_proba(feats_test)"
   ]
  },
  {
   "cell_type": "code",
   "execution_count": 22,
   "metadata": {},
   "outputs": [
    {
     "data": {
      "text/plain": [
       "array([[-0.11093235,  0.06418526,  0.0041439 ,  0.11074142, -0.05209461,\n",
       "        -0.01790263]])"
      ]
     },
     "execution_count": 22,
     "metadata": {},
     "output_type": "execute_result"
    }
   ],
   "source": [
    "clf['gbc'].coef_"
   ]
  },
  {
   "cell_type": "code",
   "execution_count": 23,
   "metadata": {},
   "outputs": [],
   "source": [
    "# a = pd.DataFrame(np.concatenate((feats_test[:100], np.expand_dims(y_probs[:100,1],-1), np.expand_dims(y_test[:100],-1)),-1))"
   ]
  },
  {
   "cell_type": "code",
   "execution_count": 24,
   "metadata": {},
   "outputs": [],
   "source": [
    "# a.to_csv('../data/temp.csv')"
   ]
  },
  {
   "cell_type": "code",
   "execution_count": 25,
   "metadata": {},
   "outputs": [],
   "source": [
    "# pd.DataFrame(np.concatenate((np.expand_dims(clf['scaler'].mean_, -1),\n",
    "#         (np.expand_dims(clf['scaler'].var_, -1)),\n",
    "#         (np.expand_dims(np.squeeze(clf['gbc'].coef_), -1))), -1), columns = ['1', '2', '3'])"
   ]
  },
  {
   "cell_type": "code",
   "execution_count": 26,
   "metadata": {},
   "outputs": [],
   "source": [
    "# np.sum(y_test[:100] == y_pred[:100])"
   ]
  },
  {
   "cell_type": "code",
   "execution_count": null,
   "metadata": {},
   "outputs": [],
   "source": []
  }
 ],
 "metadata": {
  "kernelspec": {
   "display_name": "Python 3.9.12 ('base': conda)",
   "language": "python",
   "name": "python3"
  },
  "language_info": {
   "codemirror_mode": {
    "name": "ipython",
    "version": 3
   },
   "file_extension": ".py",
   "mimetype": "text/x-python",
   "name": "python",
   "nbconvert_exporter": "python",
   "pygments_lexer": "ipython3",
   "version": "3.9.12"
  },
  "orig_nbformat": 4,
  "vscode": {
   "interpreter": {
    "hash": "f44b79a3083351f69b3e1c3080f8b68c85400f1e3f9274646c7d9776fff2bccb"
   }
  }
 },
 "nbformat": 4,
 "nbformat_minor": 2
}
