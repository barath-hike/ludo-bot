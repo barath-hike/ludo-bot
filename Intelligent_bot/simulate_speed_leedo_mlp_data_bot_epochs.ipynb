{
 "cells": [
  {
   "cell_type": "code",
   "execution_count": 1,
   "metadata": {},
   "outputs": [
    {
     "name": "stderr",
     "output_type": "stream",
     "text": [
      "2022-10-26 19:55:21.282573: I tensorflow/stream_executor/cuda/cuda_gpu_executor.cc:937] successful NUMA node read from SysFS had negative value (-1), but there must be at least one NUMA node, so returning NUMA node zero\n",
      "2022-10-26 19:55:21.295384: I tensorflow/stream_executor/cuda/cuda_gpu_executor.cc:937] successful NUMA node read from SysFS had negative value (-1), but there must be at least one NUMA node, so returning NUMA node zero\n",
      "2022-10-26 19:55:21.296300: I tensorflow/stream_executor/cuda/cuda_gpu_executor.cc:937] successful NUMA node read from SysFS had negative value (-1), but there must be at least one NUMA node, so returning NUMA node zero\n"
     ]
    }
   ],
   "source": [
    "import os\n",
    "\n",
    "import numpy as np\n",
    "from tqdm import tqdm\n",
    "from scipy.stats import truncnorm\n",
    "import sys\n",
    "import warnings\n",
    "\n",
    "sys.path.append('../')\n",
    "sys.path.append('../../')\n",
    "from DataBot.data_bot import BotMLP\n",
    "from Boards.Speed_leedo_2p_v6 import FullBoard\n",
    "from Intelligent_bot.intelligent_bot import Bot\n",
    "import gc\n",
    "\n",
    "def func(epoch):\n",
    "\n",
    "    env = FullBoard()\n",
    "    agent0 = BotMLP()\n",
    "    bot0 = Bot()\n",
    "\n",
    "    wins = []\n",
    "\n",
    "    agent0.load_model(\"../../DataBot/models/mlp_bot_models_v2/model_{}.hdf5\".format(epoch))\n",
    "\n",
    "    warnings.filterwarnings('ignore')\n",
    "\n",
    "    for ep in tqdm(range(0, 10000)):\n",
    "\n",
    "        s, _, game_over, player_turn = env.reset()\n",
    "        episode_reward = [0.0, 0.0]\n",
    "\n",
    "        time = 0\n",
    "        while time < 360 or player_turn == 0:\n",
    "\n",
    "            time += truncnorm.rvs(-2, 2, loc=3, scale=1)\n",
    "            player_turn_temp = env.get_player_turn()\n",
    "            env.roll_dice()[0]\n",
    "            player_turn = env.get_player_turn()\n",
    "\n",
    "            if player_turn == player_turn_temp:\n",
    "\n",
    "                action_list = env.get_next_states(player_turn)\n",
    "\n",
    "                if action_list:\n",
    "                    if player_turn == 0:\n",
    "                        s_t = env.return_state()\n",
    "                        action = agent0.act(np.array(s_t[:-2]).astype('float32'), action_list)\n",
    "                    else:\n",
    "                        s_t = env.return_state()\n",
    "                        action = bot0.act(state=s_t, p=player_turn)\n",
    "\n",
    "                    time += truncnorm.rvs(-2, 2, loc=3, scale=1)\n",
    "                    s_, reward, game_over, player_turn_temp, game_reward = env.make_step(action)\n",
    "\n",
    "                    episode_reward[player_turn] += reward[player_turn]\n",
    "        \n",
    "        if game_reward[0] > game_reward[1]:\n",
    "            wins.append(1)\n",
    "        else:\n",
    "            wins.append(0)\n",
    "\n",
    "    return wins"
   ]
  },
  {
   "cell_type": "code",
   "execution_count": 2,
   "metadata": {},
   "outputs": [
    {
     "name": "stderr",
     "output_type": "stream",
     "text": [
      "2022-10-26 19:55:21.477183: I tensorflow/core/platform/cpu_feature_guard.cc:142] This TensorFlow binary is optimized with oneAPI Deep Neural Network Library (oneDNN) to use the following CPU instructions in performance-critical operations:  AVX2 FMA\n",
      "To enable them in other operations, rebuild TensorFlow with the appropriate compiler flags.\n",
      "2022-10-26 19:55:21.480337: I tensorflow/stream_executor/cuda/cuda_gpu_executor.cc:937] successful NUMA node read from SysFS had negative value (-1), but there must be at least one NUMA node, so returning NUMA node zero\n",
      "2022-10-26 19:55:21.481215: I tensorflow/stream_executor/cuda/cuda_gpu_executor.cc:937] successful NUMA node read from SysFS had negative value (-1), but there must be at least one NUMA node, so returning NUMA node zero\n",
      "2022-10-26 19:55:21.481956: I tensorflow/stream_executor/cuda/cuda_gpu_executor.cc:937] successful NUMA node read from SysFS had negative value (-1), but there must be at least one NUMA node, so returning NUMA node zero\n",
      "2022-10-26 19:55:22.699444: I tensorflow/stream_executor/cuda/cuda_gpu_executor.cc:937] successful NUMA node read from SysFS had negative value (-1), but there must be at least one NUMA node, so returning NUMA node zero\n",
      "2022-10-26 19:55:22.700285: I tensorflow/stream_executor/cuda/cuda_gpu_executor.cc:937] successful NUMA node read from SysFS had negative value (-1), but there must be at least one NUMA node, so returning NUMA node zero\n",
      "2022-10-26 19:55:22.700990: I tensorflow/stream_executor/cuda/cuda_gpu_executor.cc:937] successful NUMA node read from SysFS had negative value (-1), but there must be at least one NUMA node, so returning NUMA node zero\n",
      "2022-10-26 19:55:22.701662: I tensorflow/core/common_runtime/gpu/gpu_device.cc:1510] Created device /job:localhost/replica:0/task:0/device:GPU:0 with 13242 MB memory:  -> device: 0, name: NVIDIA Tesla T4, pci bus id: 0000:00:05.0, compute capability: 7.5\n",
      "  8%|▊         | 810/10000 [02:04<23:43,  6.46it/s]"
     ]
    }
   ],
   "source": [
    "import pickle\n",
    "\n",
    "wins = []\n",
    "epoch = []\n",
    "win_p = []\n",
    "for i in range(44, 1000, 5):\n",
    "    temp = func(i)\n",
    "    print(i, np.sum(temp))\n",
    "    epoch.append(i)\n",
    "    win_p.append(np.sum(temp))\n",
    "    wins.append(temp)\n",
    "\n",
    "    with open('.results.pkl', 'wb') as f:\n",
    "        pickle.dump([epoch, win_p], f)"
   ]
  },
  {
   "cell_type": "code",
   "execution_count": 1,
   "metadata": {},
   "outputs": [
    {
     "name": "stdout",
     "output_type": "stream",
     "text": [
      "[44, 49, 54, 59, 64, 69, 74, 79, 84, 89, 94, 99] [5350, 5296, 5141, 5364, 5082, 5450, 5475, 5319, 5614, 5365, 5457, 5456]\n"
     ]
    }
   ],
   "source": [
    "import pickle\n",
    "\n",
    "with open('.results.pkl', 'rb') as f:\n",
    "    epoch, win_p = pickle.load(f)\n",
    "\n",
    "print(epoch, win_p)"
   ]
  },
  {
   "cell_type": "code",
   "execution_count": null,
   "metadata": {},
   "outputs": [],
   "source": []
  }
 ],
 "metadata": {
  "kernelspec": {
   "display_name": "Python 3.7.0 ('rl-env': conda)",
   "language": "python",
   "name": "python3"
  },
  "language_info": {
   "codemirror_mode": {
    "name": "ipython",
    "version": 3
   },
   "file_extension": ".py",
   "mimetype": "text/x-python",
   "name": "python",
   "nbconvert_exporter": "python",
   "pygments_lexer": "ipython3",
   "version": "3.7.0"
  },
  "orig_nbformat": 4,
  "vscode": {
   "interpreter": {
    "hash": "a2c9548d151a78bce28fe03d6b80e2a870126e154014100318ab730d04413d79"
   }
  }
 },
 "nbformat": 4,
 "nbformat_minor": 2
}
