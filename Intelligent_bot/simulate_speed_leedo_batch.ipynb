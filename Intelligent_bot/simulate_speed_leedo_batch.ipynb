{
 "cells": [
  {
   "cell_type": "code",
   "execution_count": 1,
   "metadata": {},
   "outputs": [
    {
     "name": "stderr",
     "output_type": "stream",
     "text": [
      "2022-10-25 16:47:46.874424: I tensorflow/stream_executor/cuda/cuda_gpu_executor.cc:937] successful NUMA node read from SysFS had negative value (-1), but there must be at least one NUMA node, so returning NUMA node zero\n",
      "2022-10-25 16:47:46.885928: I tensorflow/stream_executor/cuda/cuda_gpu_executor.cc:937] successful NUMA node read from SysFS had negative value (-1), but there must be at least one NUMA node, so returning NUMA node zero\n",
      "2022-10-25 16:47:46.886704: I tensorflow/stream_executor/cuda/cuda_gpu_executor.cc:937] successful NUMA node read from SysFS had negative value (-1), but there must be at least one NUMA node, so returning NUMA node zero\n",
      "2022-10-25 16:47:46.893752: I tensorflow/core/platform/cpu_feature_guard.cc:142] This TensorFlow binary is optimized with oneAPI Deep Neural Network Library (oneDNN) to use the following CPU instructions in performance-critical operations:  AVX2 FMA\n",
      "To enable them in other operations, rebuild TensorFlow with the appropriate compiler flags.\n",
      "2022-10-25 16:47:46.896877: I tensorflow/stream_executor/cuda/cuda_gpu_executor.cc:937] successful NUMA node read from SysFS had negative value (-1), but there must be at least one NUMA node, so returning NUMA node zero\n",
      "2022-10-25 16:47:46.897660: I tensorflow/stream_executor/cuda/cuda_gpu_executor.cc:937] successful NUMA node read from SysFS had negative value (-1), but there must be at least one NUMA node, so returning NUMA node zero\n",
      "2022-10-25 16:47:46.898374: I tensorflow/stream_executor/cuda/cuda_gpu_executor.cc:937] successful NUMA node read from SysFS had negative value (-1), but there must be at least one NUMA node, so returning NUMA node zero\n",
      "2022-10-25 16:47:47.538623: I tensorflow/stream_executor/cuda/cuda_gpu_executor.cc:937] successful NUMA node read from SysFS had negative value (-1), but there must be at least one NUMA node, so returning NUMA node zero\n",
      "2022-10-25 16:47:47.539349: I tensorflow/stream_executor/cuda/cuda_gpu_executor.cc:937] successful NUMA node read from SysFS had negative value (-1), but there must be at least one NUMA node, so returning NUMA node zero\n",
      "2022-10-25 16:47:47.540008: I tensorflow/stream_executor/cuda/cuda_gpu_executor.cc:937] successful NUMA node read from SysFS had negative value (-1), but there must be at least one NUMA node, so returning NUMA node zero\n",
      "2022-10-25 16:47:47.540627: I tensorflow/core/common_runtime/gpu/gpu_device.cc:1510] Created device /job:localhost/replica:0/task:0/device:GPU:0 with 12161 MB memory:  -> device: 0, name: NVIDIA Tesla T4, pci bus id: 0000:00:04.0, compute capability: 7.5\n",
      "  0%|          | 0/10000 [00:00<?, ?e/s]../Intelligent_bot/intelligent_bot.py:140: RuntimeWarning: divide by zero encountered in true_divide\n",
      "  self.pawn_priority[i] = self.pawn_priority[i] * 0.1 / self.pawn_score[i]\n",
      " 10%|#         | 1001/10000 [04:18<36:35,  4.10e/s]"
     ]
    },
    {
     "name": "stdout",
     "output_type": "stream",
     "text": [
      "176\n"
     ]
    },
    {
     "name": "stderr",
     "output_type": "stream",
     "text": [
      " 20%|##        | 2001/10000 [08:34<33:51,  3.94e/s]"
     ]
    },
    {
     "name": "stdout",
     "output_type": "stream",
     "text": [
      "345\n"
     ]
    },
    {
     "name": "stderr",
     "output_type": "stream",
     "text": [
      " 30%|###       | 3001/10000 [12:51<31:04,  3.75e/s]"
     ]
    },
    {
     "name": "stdout",
     "output_type": "stream",
     "text": [
      "504\n"
     ]
    },
    {
     "name": "stderr",
     "output_type": "stream",
     "text": [
      " 40%|####      | 4001/10000 [17:09<26:37,  3.75e/s]"
     ]
    },
    {
     "name": "stdout",
     "output_type": "stream",
     "text": [
      "683\n"
     ]
    },
    {
     "name": "stderr",
     "output_type": "stream",
     "text": [
      " 46%|####6     | 4633/10000 [19:52<21:49,  4.10e/s]"
     ]
    }
   ],
   "source": [
    "import os\n",
    "\n",
    "import numpy as np\n",
    "from tqdm import tqdm\n",
    "from scipy.stats import truncnorm\n",
    "import sys\n",
    "\n",
    "sys.path.append('../')\n",
    "from Agents.A2CAgent_batch import Agent\n",
    "from Boards.Speed_leedo_2p_v6 import FullBoard\n",
    "from Intelligent_bot.intelligent_bot import Bot\n",
    "import gc\n",
    "\n",
    "env = FullBoard()\n",
    "agent0 = Agent(n_actions=env.action_size(), input_dim=env.state_size(), alpha=1e-8, max_val=env.max_val())\n",
    "bot0 = Bot()\n",
    "\n",
    "wins = []\n",
    "\n",
    "output_dir_a = '../trainers_vs_intbot/model_output_vs_intbot/A2C_v7_batch/0002/actor/weights_130000.hdf5'\n",
    "output_dir_c = '../trainers_vs_intbot/model_output_vs_intbot/A2C_v7_batch/0002/critic/weights_130000.hdf5'\n",
    "\n",
    "# output_dir_a = '../model_output/A2C_v5/0001/actor/weights_16000.hdf5'\n",
    "# output_dir_c = '../model_output/A2C_v5/0001/critic/weights_16000.hdf5'\n",
    "\n",
    "agent0.load_model(output_dir_a, output_dir_c)\n",
    "\n",
    "for ep in tqdm(range(0, 10000), ascii=True, unit=\"e\"):\n",
    "    s, _, game_over, player_turn = env.reset()\n",
    "    episode_reward = [0.0, 0.0]\n",
    "\n",
    "    time = 0\n",
    "    while time < 360 or player_turn == 0:\n",
    "\n",
    "        time += truncnorm.rvs(-2.5, 2.5, loc=2.5, scale=1)\n",
    "        player_turn_temp = env.get_player_turn()\n",
    "        env.roll_dice()[0]\n",
    "        player_turn = env.get_player_turn()\n",
    "\n",
    "        if player_turn == player_turn_temp:\n",
    "\n",
    "            action_list = env.get_next_states(player_turn)\n",
    "\n",
    "            if action_list:\n",
    "                if player_turn == 1:\n",
    "                    s_t = env.convert_state(player_turn)\n",
    "                    action = agent0.act_test(s_t, action_list)\n",
    "                else:\n",
    "                    s_t = env.return_state()\n",
    "                    action = bot0.act(state=s_t, p=player_turn)\n",
    "\n",
    "                time += truncnorm.rvs(-2.5, 2.5, loc=2.5, scale=1)\n",
    "                s_, reward, game_over, player_turn_temp = env.make_step(action)\n",
    "\n",
    "                episode_reward[player_turn] += reward[player_turn]\n",
    "       \n",
    "    if episode_reward[1] > episode_reward[0]:\n",
    "        wins.append(1)\n",
    "    else:\n",
    "        wins.append(0)\n",
    "\n",
    "    if ep % 1000 == 0 and ep != 0:\n",
    "        print(np.sum(wins))"
   ]
  },
  {
   "cell_type": "code",
   "execution_count": null,
   "metadata": {},
   "outputs": [
    {
     "data": {
      "text/plain": [
       "2322"
      ]
     },
     "execution_count": 2,
     "metadata": {},
     "output_type": "execute_result"
    }
   ],
   "source": [
    "np.sum(wins)"
   ]
  }
 ],
 "metadata": {
  "kernelspec": {
   "display_name": "Python 3.7.0 ('rl-env': conda)",
   "language": "python",
   "name": "python3"
  },
  "language_info": {
   "codemirror_mode": {
    "name": "ipython",
    "version": 3
   },
   "file_extension": ".py",
   "mimetype": "text/x-python",
   "name": "python",
   "nbconvert_exporter": "python",
   "pygments_lexer": "ipython3",
   "version": "3.7.0"
  },
  "orig_nbformat": 4,
  "vscode": {
   "interpreter": {
    "hash": "a2c9548d151a78bce28fe03d6b80e2a870126e154014100318ab730d04413d79"
   }
  }
 },
 "nbformat": 4,
 "nbformat_minor": 2
}
