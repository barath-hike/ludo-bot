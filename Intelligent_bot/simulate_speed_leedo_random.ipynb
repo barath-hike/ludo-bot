{
 "cells": [
  {
   "cell_type": "code",
   "execution_count": 1,
   "metadata": {},
   "outputs": [
    {
     "name": "stderr",
     "output_type": "stream",
     "text": [
      "  0%|          | 0/10000 [00:00<?, ?e/s]/nfs_storage/fs-mnt6/barathmohanU/ludo_bot/LudoRL/Intelligent_bot/../Intelligent_bot/intelligent_bot.py:140: RuntimeWarning: divide by zero encountered in divide\n",
      "  self.pawn_priority[i] = self.pawn_priority[i] * 0.1 / self.pawn_score[i]\n",
      "100%|##########| 10000/10000 [11:43<00:00, 14.22e/s]\n"
     ]
    }
   ],
   "source": [
    "import os\n",
    "\n",
    "import numpy as np\n",
    "from tqdm import tqdm\n",
    "from scipy.stats import truncnorm\n",
    "import sys\n",
    "\n",
    "sys.path.append('../')\n",
    "from Boards.Speed_leedo_2p_v6 import FullBoard\n",
    "from Intelligent_bot.intelligent_bot import Bot\n",
    "import gc\n",
    "\n",
    "env = FullBoard()\n",
    "bot0 = Bot()\n",
    "\n",
    "wins = []\n",
    "\n",
    "def choose_rand(a):\n",
    "    return np.random.choice(a)\n",
    "\n",
    "for ep in tqdm(range(0, 10000), ascii=True, unit=\"e\"):\n",
    "    s, _, game_over, player_turn = env.reset()\n",
    "    episode_reward = [0.0, 0.0]\n",
    "\n",
    "    time = 0\n",
    "    while time < 360 or player_turn == 0:\n",
    "\n",
    "        time += truncnorm.rvs(-2.5, 2.5, loc=2.5, scale=1)\n",
    "        player_turn_temp = env.get_player_turn()\n",
    "        env.roll_dice()[0]\n",
    "        player_turn = env.get_player_turn()\n",
    "\n",
    "        if player_turn == player_turn_temp:\n",
    "\n",
    "            action_list = env.get_next_states(player_turn)\n",
    "\n",
    "            if action_list:\n",
    "                if player_turn == 1:\n",
    "                    s_t = env.return_state()\n",
    "                    action = choose_rand(action_list)\n",
    "                else:\n",
    "                    s_t = env.return_state()\n",
    "                    action = bot0.act(state=s_t, p=player_turn)\n",
    "\n",
    "                time += truncnorm.rvs(-2.5, 2.5, loc=2.5, scale=1)\n",
    "                s_, reward, game_over, player_turn_temp = env.make_step(action)\n",
    "\n",
    "                episode_reward[player_turn] += reward[player_turn]\n",
    "       \n",
    "    if episode_reward[1] > episode_reward[0]:\n",
    "        wins.append(1)\n",
    "    else:\n",
    "        wins.append(0)"
   ]
  },
  {
   "cell_type": "code",
   "execution_count": 2,
   "metadata": {},
   "outputs": [
    {
     "data": {
      "text/plain": [
       "93"
      ]
     },
     "execution_count": 2,
     "metadata": {},
     "output_type": "execute_result"
    }
   ],
   "source": [
    "np.sum(wins)"
   ]
  }
 ],
 "metadata": {
  "kernelspec": {
   "display_name": "Python 3.10.4 ('env1': conda)",
   "language": "python",
   "name": "python3"
  },
  "language_info": {
   "codemirror_mode": {
    "name": "ipython",
    "version": 3
   },
   "file_extension": ".py",
   "mimetype": "text/x-python",
   "name": "python",
   "nbconvert_exporter": "python",
   "pygments_lexer": "ipython3",
   "version": "3.10.4"
  },
  "orig_nbformat": 4,
  "vscode": {
   "interpreter": {
    "hash": "7d02bb4487b228ad1a31684d9e0df276867b8d2bc763e0d0b24f6894d710e546"
   }
  }
 },
 "nbformat": 4,
 "nbformat_minor": 2
}
