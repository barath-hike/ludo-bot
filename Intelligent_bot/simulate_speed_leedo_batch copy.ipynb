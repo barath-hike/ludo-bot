{
 "cells": [
  {
   "cell_type": "code",
   "execution_count": 1,
   "metadata": {},
   "outputs": [
    {
     "name": "stderr",
     "output_type": "stream",
     "text": [
      "2022-10-26 04:27:01.160679: I tensorflow/core/platform/cpu_feature_guard.cc:193] This TensorFlow binary is optimized with oneAPI Deep Neural Network Library (oneDNN) to use the following CPU instructions in performance-critical operations:  AVX2 FMA\n",
      "To enable them in other operations, rebuild TensorFlow with the appropriate compiler flags.\n",
      "2022-10-26 04:27:01.380842: E tensorflow/stream_executor/cuda/cuda_blas.cc:2981] Unable to register cuBLAS factory: Attempting to register factory for plugin cuBLAS when one has already been registered\n",
      "2022-10-26 04:27:02.628986: W tensorflow/stream_executor/platform/default/dso_loader.cc:64] Could not load dynamic library 'libnvinfer.so.7'; dlerror: libnvinfer.so.7: cannot open shared object file: No such file or directory\n",
      "2022-10-26 04:27:02.629109: W tensorflow/stream_executor/platform/default/dso_loader.cc:64] Could not load dynamic library 'libnvinfer_plugin.so.7'; dlerror: libnvinfer_plugin.so.7: cannot open shared object file: No such file or directory\n",
      "2022-10-26 04:27:02.629120: W tensorflow/compiler/tf2tensorrt/utils/py_utils.cc:38] TF-TRT Warning: Cannot dlopen some TensorRT libraries. If you would like to use Nvidia GPU with TensorRT, please make sure the missing libraries mentioned above are installed properly.\n",
      "2022-10-26 04:27:05.619292: I tensorflow/stream_executor/cuda/cuda_gpu_executor.cc:980] successful NUMA node read from SysFS had negative value (-1), but there must be at least one NUMA node, so returning NUMA node zero\n",
      "2022-10-26 04:27:05.630539: W tensorflow/stream_executor/platform/default/dso_loader.cc:64] Could not load dynamic library 'libcudnn.so.8'; dlerror: libcudnn.so.8: cannot open shared object file: No such file or directory\n",
      "2022-10-26 04:27:05.630562: W tensorflow/core/common_runtime/gpu/gpu_device.cc:1934] Cannot dlopen some GPU libraries. Please make sure the missing libraries mentioned above are installed properly if you would like to use GPU. Follow the guide at https://www.tensorflow.org/install/gpu for how to download and setup the required libraries for your platform.\n",
      "Skipping registering GPU devices...\n",
      "2022-10-26 04:27:05.637536: I tensorflow/core/platform/cpu_feature_guard.cc:193] This TensorFlow binary is optimized with oneAPI Deep Neural Network Library (oneDNN) to use the following CPU instructions in performance-critical operations:  AVX2 FMA\n",
      "To enable them in other operations, rebuild TensorFlow with the appropriate compiler flags.\n",
      "  0%|          | 0/10000 [00:00<?, ?it/s]/nfs_storage/fs-mnt6/barathmohanU/ludo_bot/LudoRL/Intelligent_bot/../Intelligent_bot/intelligent_bot.py:140: RuntimeWarning: divide by zero encountered in divide\n",
      "  self.pawn_priority[i] = self.pawn_priority[i] * 0.1 / self.pawn_score[i]\n",
      " 10%|█         | 1001/10000 [03:43<35:29,  4.23it/s]"
     ]
    },
    {
     "name": "stdout",
     "output_type": "stream",
     "text": [
      "545\n"
     ]
    },
    {
     "name": "stderr",
     "output_type": "stream",
     "text": [
      " 20%|██        | 2001/10000 [07:27<30:18,  4.40it/s]"
     ]
    },
    {
     "name": "stdout",
     "output_type": "stream",
     "text": [
      "1097\n"
     ]
    },
    {
     "name": "stderr",
     "output_type": "stream",
     "text": [
      " 30%|███       | 3001/10000 [11:11<25:45,  4.53it/s]"
     ]
    },
    {
     "name": "stdout",
     "output_type": "stream",
     "text": [
      "1639\n"
     ]
    },
    {
     "name": "stderr",
     "output_type": "stream",
     "text": [
      " 40%|████      | 4001/10000 [14:56<22:07,  4.52it/s]"
     ]
    },
    {
     "name": "stdout",
     "output_type": "stream",
     "text": [
      "2226\n"
     ]
    },
    {
     "name": "stderr",
     "output_type": "stream",
     "text": [
      " 50%|█████     | 5001/10000 [18:42<17:53,  4.66it/s]"
     ]
    },
    {
     "name": "stdout",
     "output_type": "stream",
     "text": [
      "2806\n"
     ]
    },
    {
     "name": "stderr",
     "output_type": "stream",
     "text": [
      " 60%|██████    | 6001/10000 [22:24<14:47,  4.51it/s]"
     ]
    },
    {
     "name": "stdout",
     "output_type": "stream",
     "text": [
      "3353\n"
     ]
    },
    {
     "name": "stderr",
     "output_type": "stream",
     "text": [
      " 70%|███████   | 7001/10000 [26:06<10:59,  4.55it/s]"
     ]
    },
    {
     "name": "stdout",
     "output_type": "stream",
     "text": [
      "3913\n"
     ]
    },
    {
     "name": "stderr",
     "output_type": "stream",
     "text": [
      " 80%|████████  | 8001/10000 [29:51<07:37,  4.37it/s]"
     ]
    },
    {
     "name": "stdout",
     "output_type": "stream",
     "text": [
      "4445\n"
     ]
    },
    {
     "name": "stderr",
     "output_type": "stream",
     "text": [
      " 90%|█████████ | 9001/10000 [33:34<03:51,  4.31it/s]"
     ]
    },
    {
     "name": "stdout",
     "output_type": "stream",
     "text": [
      "5022\n"
     ]
    },
    {
     "name": "stderr",
     "output_type": "stream",
     "text": [
      "100%|██████████| 10000/10000 [37:18<00:00,  4.47it/s]\n"
     ]
    }
   ],
   "source": [
    "import os\n",
    "\n",
    "import numpy as np\n",
    "from tqdm import tqdm\n",
    "from scipy.stats import truncnorm\n",
    "import sys\n",
    "\n",
    "sys.path.append('../')\n",
    "from Agents.A2CAgent_batch_v2 import Agent\n",
    "from Boards.Speed_leedo_2p_v6 import FullBoard\n",
    "from Intelligent_bot.intelligent_bot import Bot\n",
    "import gc\n",
    "\n",
    "env = FullBoard()\n",
    "agent0 = Agent(n_actions=env.action_size(), input_dim=env.state_size(), alpha=1e-8, max_val=env.max_val())\n",
    "bot0 = Bot()\n",
    "\n",
    "wins = []\n",
    "\n",
    "output_dir_a = '../trainers_vs_intbot/model_output_vs_intbot/A2C_v6_batch_v2/0002/actor/weights_345300.hdf5'\n",
    "output_dir_c = '../trainers_vs_intbot/model_output_vs_intbot/A2C_v6_batch_v2/0002/critic/weights_345300.hdf5'\n",
    "\n",
    "# output_dir_a = '../model_output/A2C_v5/0001/actor/weights_16000.hdf5'\n",
    "# output_dir_c = '../model_output/A2C_v5/0001/critic/weights_16000.hdf5'\n",
    "\n",
    "agent0.load_model(output_dir_a, output_dir_c)\n",
    "\n",
    "for ep in tqdm(range(0, 10000)):\n",
    "    s, _, game_over, player_turn = env.reset()\n",
    "    episode_reward = [0.0, 0.0]\n",
    "\n",
    "    time = 0\n",
    "    while time < 360 or player_turn == 0:\n",
    "\n",
    "        time += truncnorm.rvs(-2.5, 2.5, loc=2.5, scale=1)\n",
    "        player_turn_temp = env.get_player_turn()\n",
    "        env.roll_dice()[0]\n",
    "        player_turn = env.get_player_turn()\n",
    "\n",
    "        if player_turn == player_turn_temp:\n",
    "\n",
    "            action_list = env.get_next_states(player_turn)\n",
    "\n",
    "            if action_list:\n",
    "                if player_turn == 0:\n",
    "                    s_t = env.convert_state(player_turn)\n",
    "                    action = agent0.act_test(s_t, action_list)\n",
    "                else:\n",
    "                    s_t = env.return_state()\n",
    "                    action = bot0.act(state=s_t, p=player_turn)\n",
    "\n",
    "                time += truncnorm.rvs(-2.5, 2.5, loc=2.5, scale=1)\n",
    "                s_, reward, game_over, player_turn_temp = env.make_step(action)\n",
    "\n",
    "                episode_reward[player_turn] += reward[player_turn]\n",
    "       \n",
    "    if episode_reward[0] > episode_reward[1]:\n",
    "        wins.append(1)\n",
    "    else:\n",
    "        wins.append(0)\n",
    "\n",
    "    if ep % 1000 == 0 and ep != 0:\n",
    "        print(np.sum(wins))"
   ]
  },
  {
   "cell_type": "code",
   "execution_count": 2,
   "metadata": {},
   "outputs": [
    {
     "data": {
      "text/plain": [
       "5587"
      ]
     },
     "execution_count": 2,
     "metadata": {},
     "output_type": "execute_result"
    }
   ],
   "source": [
    "np.sum(wins)"
   ]
  }
 ],
 "metadata": {
  "kernelspec": {
   "display_name": "Python 3.10.6 ('env1': conda)",
   "language": "python",
   "name": "python3"
  },
  "language_info": {
   "codemirror_mode": {
    "name": "ipython",
    "version": 3
   },
   "file_extension": ".py",
   "mimetype": "text/x-python",
   "name": "python",
   "nbconvert_exporter": "python",
   "pygments_lexer": "ipython3",
   "version": "3.10.6"
  },
  "orig_nbformat": 4,
  "vscode": {
   "interpreter": {
    "hash": "7d02bb4487b228ad1a31684d9e0df276867b8d2bc763e0d0b24f6894d710e546"
   }
  }
 },
 "nbformat": 4,
 "nbformat_minor": 2
}
