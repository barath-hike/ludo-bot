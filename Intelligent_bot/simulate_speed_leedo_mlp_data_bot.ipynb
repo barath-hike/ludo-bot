{
 "cells": [
  {
   "cell_type": "code",
   "execution_count": 1,
   "metadata": {},
   "outputs": [
    {
     "name": "stderr",
     "output_type": "stream",
     "text": [
      "2022-10-21 06:10:35.693076: I tensorflow/stream_executor/cuda/cuda_gpu_executor.cc:937] successful NUMA node read from SysFS had negative value (-1), but there must be at least one NUMA node, so returning NUMA node zero\n",
      "2022-10-21 06:10:35.705915: I tensorflow/stream_executor/cuda/cuda_gpu_executor.cc:937] successful NUMA node read from SysFS had negative value (-1), but there must be at least one NUMA node, so returning NUMA node zero\n",
      "2022-10-21 06:10:35.706451: I tensorflow/stream_executor/cuda/cuda_gpu_executor.cc:937] successful NUMA node read from SysFS had negative value (-1), but there must be at least one NUMA node, so returning NUMA node zero\n",
      "2022-10-21 06:10:35.723524: I tensorflow/core/platform/cpu_feature_guard.cc:142] This TensorFlow binary is optimized with oneAPI Deep Neural Network Library (oneDNN) to use the following CPU instructions in performance-critical operations:  AVX2 FMA\n",
      "To enable them in other operations, rebuild TensorFlow with the appropriate compiler flags.\n",
      "2022-10-21 06:10:35.726367: I tensorflow/stream_executor/cuda/cuda_gpu_executor.cc:937] successful NUMA node read from SysFS had negative value (-1), but there must be at least one NUMA node, so returning NUMA node zero\n",
      "2022-10-21 06:10:35.726874: I tensorflow/stream_executor/cuda/cuda_gpu_executor.cc:937] successful NUMA node read from SysFS had negative value (-1), but there must be at least one NUMA node, so returning NUMA node zero\n",
      "2022-10-21 06:10:35.727308: I tensorflow/stream_executor/cuda/cuda_gpu_executor.cc:937] successful NUMA node read from SysFS had negative value (-1), but there must be at least one NUMA node, so returning NUMA node zero\n",
      "2022-10-21 06:10:36.694878: I tensorflow/stream_executor/cuda/cuda_gpu_executor.cc:937] successful NUMA node read from SysFS had negative value (-1), but there must be at least one NUMA node, so returning NUMA node zero\n",
      "2022-10-21 06:10:36.695426: I tensorflow/stream_executor/cuda/cuda_gpu_executor.cc:937] successful NUMA node read from SysFS had negative value (-1), but there must be at least one NUMA node, so returning NUMA node zero\n",
      "2022-10-21 06:10:36.695872: I tensorflow/stream_executor/cuda/cuda_gpu_executor.cc:937] successful NUMA node read from SysFS had negative value (-1), but there must be at least one NUMA node, so returning NUMA node zero\n",
      "2022-10-21 06:10:36.696297: I tensorflow/core/common_runtime/gpu/gpu_device.cc:1510] Created device /job:localhost/replica:0/task:0/device:GPU:0 with 826 MB memory:  -> device: 0, name: NVIDIA Tesla T4, pci bus id: 0000:00:05.0, compute capability: 7.5\n",
      "  1%|          | 98/10000 [00:19<34:35,  4.77e/s] "
     ]
    }
   ],
   "source": [
    "import os\n",
    "\n",
    "import numpy as np\n",
    "from tqdm import tqdm\n",
    "from scipy.stats import truncnorm\n",
    "import sys\n",
    "import warnings\n",
    "\n",
    "sys.path.append('../')\n",
    "sys.path.append('../../')\n",
    "from DataBot.data_bot import BotMLP\n",
    "from Boards.Speed_leedo_2p_v6 import FullBoard\n",
    "from Intelligent_bot.intelligent_bot import Bot\n",
    "import gc\n",
    "\n",
    "env = FullBoard()\n",
    "agent0 = BotMLP()\n",
    "bot0 = Bot()\n",
    "\n",
    "wins = []\n",
    "\n",
    "agent0.load_model(\"../../DataBot/models/mlp_bot_models/model_{}.hdf5\".format(4))\n",
    "\n",
    "warnings.filterwarnings('ignore')\n",
    "\n",
    "for ep in tqdm(range(0, 10000), ascii=True, unit=\"e\"):\n",
    "    s, _, game_over, player_turn = env.reset()\n",
    "    episode_reward = [0.0, 0.0]\n",
    "\n",
    "    time = 0\n",
    "    while time < 360 or player_turn == 0:\n",
    "\n",
    "        time += truncnorm.rvs(-2.5, 2.5, loc=2.5, scale=1)\n",
    "        player_turn_temp = env.get_player_turn()\n",
    "        env.roll_dice()[0]\n",
    "        player_turn = env.get_player_turn()\n",
    "\n",
    "        if player_turn == player_turn_temp:\n",
    "\n",
    "            action_list = env.get_next_states(player_turn)\n",
    "\n",
    "            if action_list:\n",
    "                if player_turn == 0:\n",
    "                    s_t = env.return_state()\n",
    "                    action = agent0.act(np.array(s_t).astype('float32'), action_list)\n",
    "                else:\n",
    "                    s_t = env.return_state()\n",
    "                    action = bot0.act(state=s_t, p=player_turn)\n",
    "\n",
    "                time += truncnorm.rvs(-2.5, 2.5, loc=2.5, scale=1)\n",
    "                s_, reward, game_over, player_turn_temp = env.make_step(action)\n",
    "\n",
    "                episode_reward[player_turn] += reward[player_turn]\n",
    "       \n",
    "    if episode_reward[0] > episode_reward[1]:\n",
    "        wins.append(1)\n",
    "    else:\n",
    "        wins.append(0)\n",
    "\n",
    "    if ep % 1000 == 0 and ep != 0:\n",
    "        print(np.sum(wins))"
   ]
  },
  {
   "cell_type": "code",
   "execution_count": null,
   "metadata": {},
   "outputs": [
    {
     "data": {
      "text/plain": [
       "3890"
      ]
     },
     "execution_count": 2,
     "metadata": {},
     "output_type": "execute_result"
    }
   ],
   "source": [
    "np.sum(wins)"
   ]
  }
 ],
 "metadata": {
  "kernelspec": {
   "display_name": "Python 3.10.6 ('env1': conda)",
   "language": "python",
   "name": "python3"
  },
  "language_info": {
   "codemirror_mode": {
    "name": "ipython",
    "version": 3
   },
   "file_extension": ".py",
   "mimetype": "text/x-python",
   "name": "python",
   "nbconvert_exporter": "python",
   "pygments_lexer": "ipython3",
   "version": "3.10.6"
  },
  "orig_nbformat": 4,
  "vscode": {
   "interpreter": {
    "hash": "7d02bb4487b228ad1a31684d9e0df276867b8d2bc763e0d0b24f6894d710e546"
   }
  }
 },
 "nbformat": 4,
 "nbformat_minor": 2
}
