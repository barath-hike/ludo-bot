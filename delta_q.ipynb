{
 "cells": [
  {
   "cell_type": "code",
   "execution_count": 1,
   "metadata": {},
   "outputs": [],
   "source": [
    "import numpy as np\n",
    "import pickle\n",
    "import tqdm\n",
    "from scipy import stats"
   ]
  },
  {
   "cell_type": "code",
   "execution_count": 2,
   "metadata": {},
   "outputs": [],
   "source": [
    "with open('../data/q_val_data_11_to_15.pkl', 'rb') as f:\n",
    "    _, results, results1 = pickle.load(f)"
   ]
  },
  {
   "cell_type": "code",
   "execution_count": 3,
   "metadata": {},
   "outputs": [],
   "source": [
    "for i in range(len(results)):\n",
    "    results[i].update(results1[i])\n",
    "\n",
    "data = {item['division']:item for item in results if item is not None}\n",
    "\n",
    "del results, results1"
   ]
  },
  {
   "cell_type": "code",
   "execution_count": 4,
   "metadata": {},
   "outputs": [
    {
     "name": "stderr",
     "output_type": "stream",
     "text": [
      "100%|██████████| 916750/916750 [00:29<00:00, 30810.25it/s]\n"
     ]
    }
   ],
   "source": [
    "for dat in tqdm.tqdm(data):\n",
    "    temp1 = data[dat]['q_user_0'] #== data[dat]['q_max_user_0']\n",
    "    temp2 = data[dat]['q_user_1'] #== data[dat]['q_max_user_1']\n",
    "    # temp1 = (data[dat]['q_user_0'] - data[dat]['q_min_user_0']) / (data[dat]['q_max_user_0'] - data[dat]['q_min_user_0'])\n",
    "    # temp2 = (data[dat]['q_user_1'] - data[dat]['q_min_user_1']) / (data[dat]['q_max_user_1'] - data[dat]['q_min_user_1'])\n",
    "    # temp1 = temp1.astype('int32')\n",
    "    # temp2 = temp2.astype('int32')\n",
    "    if len(temp1) >= 25 and len(temp2) >= 25:\n",
    "        if len(temp1) != len(temp2):\n",
    "            length = np.min([len(temp1), len(temp2)])\n",
    "            temp1 = temp1[:length]\n",
    "            temp2 = temp2[:length]\n",
    "        data[dat]['delta_q_0'] = np.mean(temp1 - temp2)\n",
    "        data[dat]['delta_q_1'] = np.mean(temp2 - temp1)"
   ]
  },
  {
   "cell_type": "code",
   "execution_count": 5,
   "metadata": {},
   "outputs": [
    {
     "name": "stderr",
     "output_type": "stream",
     "text": [
      "100%|██████████| 916750/916750 [00:02<00:00, 314643.34it/s]\n"
     ]
    }
   ],
   "source": [
    "win = []\n",
    "score = []\n",
    "for dat in tqdm.tqdm(data):\n",
    "    if 'delta_q_1' in data[dat]:\n",
    "        score.append(data[dat]['delta_q_0'])\n",
    "        win.append(int(data[dat]['score'][0] > data[dat]['score'][1]))\n",
    "        score.append(data[dat]['delta_q_1'])\n",
    "        win.append(int(data[dat]['score'][1] > data[dat]['score'][0]))"
   ]
  },
  {
   "cell_type": "code",
   "execution_count": 6,
   "metadata": {},
   "outputs": [],
   "source": [
    "win = np.array(win)\n",
    "score = np.array(score)\n",
    "\n",
    "idx = np.logical_and(score < np.percentile(score, 90), score > np.percentile(score, 10))\n",
    "score1 = score[idx]\n",
    "win1 = win[idx]"
   ]
  },
  {
   "cell_type": "code",
   "execution_count": 7,
   "metadata": {},
   "outputs": [
    {
     "data": {
      "text/plain": [
       "<matplotlib.legend.Legend at 0x7f69b73dad30>"
      ]
     },
     "execution_count": 7,
     "metadata": {},
     "output_type": "execute_result"
    },
    {
     "data": {
      "image/png": "[encoded data removed]",
      "text/plain": [
       "<Figure size 432x288 with 1 Axes>"
      ]
     },
     "metadata": {
      "needs_background": "light"
     },
     "output_type": "display_data"
    }
   ],
   "source": [
    "import matplotlib.pyplot as plt\n",
    "import seaborn as sns\n",
    "\n",
    "sns.kdeplot(score[win==1], label='Win')\n",
    "sns.kdeplot(score[win==0], label='Loss')\n",
    "plt.xlabel('Delta Q (Min Max Norm)')\n",
    "plt.legend()"
   ]
  },
  {
   "cell_type": "code",
   "execution_count": 8,
   "metadata": {},
   "outputs": [],
   "source": [
    "with open('../data/delta_q_11_to_15.pkl', 'wb') as f:\n",
    "    pickle.dump(data, f)"
   ]
  },
  {
   "cell_type": "code",
   "execution_count": 9,
   "metadata": {},
   "outputs": [
    {
     "data": {
      "text/plain": [
       "1781740"
      ]
     },
     "execution_count": 9,
     "metadata": {},
     "output_type": "execute_result"
    }
   ],
   "source": [
    "len(win)"
   ]
  }
 ],
 "metadata": {
  "kernelspec": {
   "display_name": "Python 3.9.12 ('base': conda)",
   "language": "python",
   "name": "python3"
  },
  "language_info": {
   "codemirror_mode": {
    "name": "ipython",
    "version": 3
   },
   "file_extension": ".py",
   "mimetype": "text/x-python",
   "name": "python",
   "nbconvert_exporter": "python",
   "pygments_lexer": "ipython3",
   "version": "3.9.12"
  },
  "orig_nbformat": 4,
  "vscode": {
   "interpreter": {
    "hash": "f44b79a3083351f69b3e1c3080f8b68c85400f1e3f9274646c7d9776fff2bccb"
   }
  }
 },
 "nbformat": 4,
 "nbformat_minor": 2
}
