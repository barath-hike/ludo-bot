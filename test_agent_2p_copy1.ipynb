{
 "cells": [
  {
   "cell_type": "code",
   "execution_count": 1,
   "metadata": {},
   "outputs": [
    {
     "name": "stderr",
     "output_type": "stream",
     "text": [
      "2022-09-16 10:41:50.816286: I tensorflow/stream_executor/platform/default/dso_loader.cc:49] Successfully opened dynamic library libcudart.so.10.1\n"
     ]
    }
   ],
   "source": [
    "import pandas as pd\n",
    "import numpy as np\n",
    "import json\n",
    "import os\n",
    "from tqdm import tqdm\n",
    "from Agents.DQNAgent import DQNAgent\n",
    "from Boards.Speed_leedo_2p import FullBoard\n",
    "import sys\n",
    "import tqdm\n",
    "\n",
    "fetch_or_load = 1 # 0 - fetch, 1 - load\n",
    "\n",
    "if fetch_or_load == 0:\n",
    "    query=\"\"\"\n",
    "        select *\n",
    "        from `analytics-156605.barath.ludo_details`\n",
    "        order by division, time_stamp\n",
    "    \"\"\"\n",
    "\n",
    "    df = pd.read_gbq(query, use_bqstorage_api=True, progress_bar_type='tqdm_notebook')\n",
    "\n",
    "    df.to_csv('../data/ludo_2p_data_sept_10.csv')\n",
    "\n",
    "else:\n",
    "    df = pd.read_csv('../data/ludo_2p_data_sept_10.csv')"
   ]
  },
  {
   "cell_type": "code",
   "execution_count": 2,
   "metadata": {},
   "outputs": [],
   "source": [
    "groups = df.sort_values(by='time_stamp').groupby('division')"
   ]
  },
  {
   "cell_type": "code",
   "execution_count": 3,
   "metadata": {},
   "outputs": [],
   "source": [
    "env = FullBoard()"
   ]
  },
  {
   "cell_type": "code",
   "execution_count": 4,
   "metadata": {},
   "outputs": [],
   "source": [
    "data = []\n",
    "    \n",
    "for n, (name, group) in enumerate(groups):\n",
    "    \n",
    "    group = group.reset_index()\n",
    "    if n == 1:\n",
    "\n",
    "        try:\n",
    "            user_ids = []\n",
    "            dice = []\n",
    "            pos = []\n",
    "            score = []\n",
    "\n",
    "            skill = [group['user_skill_score'][0]]\n",
    "            skill += [np.unique(group[group['from_user'] != group['from_user'][0]]['user_skill_score'])[0]]\n",
    "\n",
    "            order = json.loads(json.loads(group['race'][0])['ludoBoardData'])['upd']\n",
    "            for i, ord in enumerate(order):\n",
    "                if np.sum(order[ord]['pos']) == 4 and i == 0:\n",
    "                    flag = 1\n",
    "                else:\n",
    "                    flag = 0\n",
    "\n",
    "            for i in  range(len(group)):\n",
    "\n",
    "                temp_user_id = group['from_user'][i]\n",
    "                temps = json.loads(json.loads(group['race'][i])['ludoBoardData'])['upd']\n",
    "                temp_dice = int(group['dice_score'][i])\n",
    "\n",
    "                for j, temp in enumerate(temps):\n",
    "                    \n",
    "                    if j == 0:\n",
    "                        temp_pos = temps[temp]['pos']\n",
    "                    else:\n",
    "                        if flag:\n",
    "                            temp_pos += temps[temp]['pos']\n",
    "                        else:\n",
    "                            temp_pos = temps[temp]['pos'] + temp_pos\n",
    "                    if temp == temp_user_id:\n",
    "                        if flag:\n",
    "                            temp_user_id = j\n",
    "                        else:\n",
    "                            temp_user_id = 1 - j\n",
    "\n",
    "                    if j == 0:\n",
    "                        temp_score = [temps[temp]['totScore']]\n",
    "                    else:\n",
    "                        if flag:\n",
    "                            temp_score += [temps[temp]['totScore']]\n",
    "                        else:\n",
    "                            temp_score = [temps[temp]['totScore']] + temp_score\n",
    "\n",
    "                user_ids.append(temp_user_id)\n",
    "                dice.append(temp_dice)\n",
    "                pos.append(temp_pos)\n",
    "                score.append(temp_score)\n",
    "\n",
    "            user_ids = user_ids[1:]\n",
    "            dice = dice[1:]\n",
    "\n",
    "            user_ids = np.array(user_ids)\n",
    "            dice = np.array(dice)\n",
    "            pos = np.array(pos)\n",
    "            score = np.array(score)\n",
    "\n",
    "            action = np.argmax((pos[1:] - pos[:-1]), axis=-1) % 4\n",
    "\n",
    "            states = np.concatenate((np.expand_dims(dice, -1), pos[:-1,:], np.zeros((len(dice),2))), -1)\n",
    "            s = []\n",
    "            for m in range (len(states)):\n",
    "                s.append(env.convert_state(user_ids[m], env._process(states[m,:].tolist())))\n",
    "\n",
    "            data.append({'user_ids': user_ids, 'score': score, 'states': s, 'action': action, 'skill': skill})\n",
    "\n",
    "        except:\n",
    "            continue"
   ]
  },
  {
   "cell_type": "code",
   "execution_count": 5,
   "metadata": {},
   "outputs": [
    {
     "name": "stdout",
     "output_type": "stream",
     "text": [
      "Model: \"sequential\"\n",
      "_________________________________________________________________\n",
      "Layer (type)                 Output Shape              Param #   \n",
      "=================================================================\n",
      "dense (Dense)                (None, 11, 64)            128       \n",
      "_________________________________________________________________\n",
      "dense_1 (Dense)              (None, 11, 64)            4160      \n",
      "_________________________________________________________________\n",
      "dense_2 (Dense)              (None, 11, 64)            4160      \n",
      "_________________________________________________________________\n",
      "dense_3 (Dense)              (None, 11, 64)            4160      \n",
      "_________________________________________________________________\n",
      "flatten (Flatten)            (None, 704)               0         \n",
      "_________________________________________________________________\n",
      "dense_4 (Dense)              (None, 4)                 2820      \n",
      "=================================================================\n",
      "Total params: 15,428\n",
      "Trainable params: 15,428\n",
      "Non-trainable params: 0\n",
      "_________________________________________________________________\n"
     ]
    },
    {
     "name": "stderr",
     "output_type": "stream",
     "text": [
      "2022-09-16 10:45:27.559684: I tensorflow/compiler/jit/xla_cpu_device.cc:41] Not creating XLA devices, tf_xla_enable_xla_devices not set\n",
      "2022-09-16 10:45:27.560900: I tensorflow/stream_executor/platform/default/dso_loader.cc:49] Successfully opened dynamic library libcuda.so.1\n",
      "2022-09-16 10:45:27.611094: I tensorflow/stream_executor/cuda/cuda_gpu_executor.cc:941] successful NUMA node read from SysFS had negative value (-1), but there must be at least one NUMA node, so returning NUMA node zero\n",
      "2022-09-16 10:45:27.612390: I tensorflow/core/common_runtime/gpu/gpu_device.cc:1720] Found device 0 with properties: \n",
      "pciBusID: 0000:00:04.0 name: NVIDIA Tesla T4 computeCapability: 7.5\n",
      "coreClock: 1.59GHz coreCount: 40 deviceMemorySize: 14.75GiB deviceMemoryBandwidth: 298.08GiB/s\n",
      "2022-09-16 10:45:27.612504: I tensorflow/stream_executor/cuda/cuda_gpu_executor.cc:941] successful NUMA node read from SysFS had negative value (-1), but there must be at least one NUMA node, so returning NUMA node zero\n",
      "2022-09-16 10:45:27.614205: I tensorflow/core/common_runtime/gpu/gpu_device.cc:1720] Found device 1 with properties: \n",
      "pciBusID: 0000:00:05.0 name: NVIDIA Tesla T4 computeCapability: 7.5\n",
      "coreClock: 1.59GHz coreCount: 40 deviceMemorySize: 14.75GiB deviceMemoryBandwidth: 298.08GiB/s\n",
      "2022-09-16 10:45:27.614307: I tensorflow/stream_executor/cuda/cuda_gpu_executor.cc:941] successful NUMA node read from SysFS had negative value (-1), but there must be at least one NUMA node, so returning NUMA node zero\n",
      "2022-09-16 10:45:27.615875: I tensorflow/core/common_runtime/gpu/gpu_device.cc:1720] Found device 2 with properties: \n",
      "pciBusID: 0000:00:06.0 name: NVIDIA Tesla T4 computeCapability: 7.5\n",
      "coreClock: 1.59GHz coreCount: 40 deviceMemorySize: 14.75GiB deviceMemoryBandwidth: 298.08GiB/s\n",
      "2022-09-16 10:45:27.615944: I tensorflow/stream_executor/cuda/cuda_gpu_executor.cc:941] successful NUMA node read from SysFS had negative value (-1), but there must be at least one NUMA node, so returning NUMA node zero\n",
      "2022-09-16 10:45:27.617685: I tensorflow/core/common_runtime/gpu/gpu_device.cc:1720] Found device 3 with properties: \n",
      "pciBusID: 0000:00:07.0 name: NVIDIA Tesla T4 computeCapability: 7.5\n",
      "coreClock: 1.59GHz coreCount: 40 deviceMemorySize: 14.75GiB deviceMemoryBandwidth: 298.08GiB/s\n",
      "2022-09-16 10:45:27.617739: I tensorflow/stream_executor/platform/default/dso_loader.cc:49] Successfully opened dynamic library libcudart.so.10.1\n",
      "2022-09-16 10:45:27.621472: I tensorflow/stream_executor/platform/default/dso_loader.cc:49] Successfully opened dynamic library libcublas.so.10\n",
      "2022-09-16 10:45:27.621547: I tensorflow/stream_executor/platform/default/dso_loader.cc:49] Successfully opened dynamic library libcublasLt.so.10\n",
      "2022-09-16 10:45:27.623829: I tensorflow/stream_executor/platform/default/dso_loader.cc:49] Successfully opened dynamic library libcufft.so.10\n",
      "2022-09-16 10:45:27.624783: I tensorflow/stream_executor/platform/default/dso_loader.cc:49] Successfully opened dynamic library libcurand.so.10\n",
      "2022-09-16 10:45:27.627040: I tensorflow/stream_executor/platform/default/dso_loader.cc:49] Successfully opened dynamic library libcusolver.so.10\n",
      "2022-09-16 10:45:27.628287: I tensorflow/stream_executor/platform/default/dso_loader.cc:49] Successfully opened dynamic library libcusparse.so.10\n",
      "2022-09-16 10:45:27.632458: I tensorflow/stream_executor/platform/default/dso_loader.cc:49] Successfully opened dynamic library libcudnn.so.7\n",
      "2022-09-16 10:45:27.632602: I tensorflow/stream_executor/cuda/cuda_gpu_executor.cc:941] successful NUMA node read from SysFS had negative value (-1), but there must be at least one NUMA node, so returning NUMA node zero\n",
      "2022-09-16 10:45:27.634195: I tensorflow/stream_executor/cuda/cuda_gpu_executor.cc:941] successful NUMA node read from SysFS had negative value (-1), but there must be at least one NUMA node, so returning NUMA node zero\n",
      "2022-09-16 10:45:27.636032: I tensorflow/stream_executor/cuda/cuda_gpu_executor.cc:941] successful NUMA node read from SysFS had negative value (-1), but there must be at least one NUMA node, so returning NUMA node zero\n",
      "2022-09-16 10:45:27.638226: I tensorflow/stream_executor/cuda/cuda_gpu_executor.cc:941] successful NUMA node read from SysFS had negative value (-1), but there must be at least one NUMA node, so returning NUMA node zero\n",
      "2022-09-16 10:45:27.640405: I tensorflow/stream_executor/cuda/cuda_gpu_executor.cc:941] successful NUMA node read from SysFS had negative value (-1), but there must be at least one NUMA node, so returning NUMA node zero\n",
      "2022-09-16 10:45:27.641944: I tensorflow/stream_executor/cuda/cuda_gpu_executor.cc:941] successful NUMA node read from SysFS had negative value (-1), but there must be at least one NUMA node, so returning NUMA node zero\n",
      "2022-09-16 10:45:27.643521: I tensorflow/stream_executor/cuda/cuda_gpu_executor.cc:941] successful NUMA node read from SysFS had negative value (-1), but there must be at least one NUMA node, so returning NUMA node zero\n",
      "2022-09-16 10:45:27.645145: I tensorflow/stream_executor/cuda/cuda_gpu_executor.cc:941] successful NUMA node read from SysFS had negative value (-1), but there must be at least one NUMA node, so returning NUMA node zero\n",
      "2022-09-16 10:45:27.649531: I tensorflow/core/common_runtime/gpu/gpu_device.cc:1862] Adding visible gpu devices: 0, 1, 2, 3\n",
      "2022-09-16 10:45:27.649944: I tensorflow/core/platform/cpu_feature_guard.cc:142] This TensorFlow binary is optimized with oneAPI Deep Neural Network Library (oneDNN) to use the following CPU instructions in performance-critical operations:  SSE4.1 SSE4.2 AVX AVX2 FMA\n",
      "To enable them in other operations, rebuild TensorFlow with the appropriate compiler flags.\n",
      "2022-09-16 10:45:27.652195: I tensorflow/compiler/jit/xla_gpu_device.cc:99] Not creating XLA devices, tf_xla_enable_xla_devices not set\n",
      "2022-09-16 10:45:28.485681: I tensorflow/stream_executor/cuda/cuda_gpu_executor.cc:941] successful NUMA node read from SysFS had negative value (-1), but there must be at least one NUMA node, so returning NUMA node zero\n",
      "2022-09-16 10:45:28.486301: I tensorflow/core/common_runtime/gpu/gpu_device.cc:1720] Found device 0 with properties: \n",
      "pciBusID: 0000:00:04.0 name: NVIDIA Tesla T4 computeCapability: 7.5\n",
      "coreClock: 1.59GHz coreCount: 40 deviceMemorySize: 14.75GiB deviceMemoryBandwidth: 298.08GiB/s\n",
      "2022-09-16 10:45:28.486396: I tensorflow/stream_executor/cuda/cuda_gpu_executor.cc:941] successful NUMA node read from SysFS had negative value (-1), but there must be at least one NUMA node, so returning NUMA node zero\n",
      "2022-09-16 10:45:28.487266: I tensorflow/core/common_runtime/gpu/gpu_device.cc:1720] Found device 1 with properties: \n",
      "pciBusID: 0000:00:05.0 name: NVIDIA Tesla T4 computeCapability: 7.5\n",
      "coreClock: 1.59GHz coreCount: 40 deviceMemorySize: 14.75GiB deviceMemoryBandwidth: 298.08GiB/s\n",
      "2022-09-16 10:45:28.487332: I tensorflow/stream_executor/cuda/cuda_gpu_executor.cc:941] successful NUMA node read from SysFS had negative value (-1), but there must be at least one NUMA node, so returning NUMA node zero\n",
      "2022-09-16 10:45:28.488215: I tensorflow/core/common_runtime/gpu/gpu_device.cc:1720] Found device 2 with properties: \n",
      "pciBusID: 0000:00:06.0 name: NVIDIA Tesla T4 computeCapability: 7.5\n",
      "coreClock: 1.59GHz coreCount: 40 deviceMemorySize: 14.75GiB deviceMemoryBandwidth: 298.08GiB/s\n",
      "2022-09-16 10:45:28.488270: I tensorflow/stream_executor/cuda/cuda_gpu_executor.cc:941] successful NUMA node read from SysFS had negative value (-1), but there must be at least one NUMA node, so returning NUMA node zero\n",
      "2022-09-16 10:45:28.489174: I tensorflow/core/common_runtime/gpu/gpu_device.cc:1720] Found device 3 with properties: \n",
      "pciBusID: 0000:00:07.0 name: NVIDIA Tesla T4 computeCapability: 7.5\n",
      "coreClock: 1.59GHz coreCount: 40 deviceMemorySize: 14.75GiB deviceMemoryBandwidth: 298.08GiB/s\n",
      "2022-09-16 10:45:28.489222: I tensorflow/stream_executor/platform/default/dso_loader.cc:49] Successfully opened dynamic library libcudart.so.10.1\n",
      "2022-09-16 10:45:28.489249: I tensorflow/stream_executor/platform/default/dso_loader.cc:49] Successfully opened dynamic library libcublas.so.10\n",
      "2022-09-16 10:45:28.489263: I tensorflow/stream_executor/platform/default/dso_loader.cc:49] Successfully opened dynamic library libcublasLt.so.10\n",
      "2022-09-16 10:45:28.489277: I tensorflow/stream_executor/platform/default/dso_loader.cc:49] Successfully opened dynamic library libcufft.so.10\n",
      "2022-09-16 10:45:28.489289: I tensorflow/stream_executor/platform/default/dso_loader.cc:49] Successfully opened dynamic library libcurand.so.10\n",
      "2022-09-16 10:45:28.489301: I tensorflow/stream_executor/platform/default/dso_loader.cc:49] Successfully opened dynamic library libcusolver.so.10\n",
      "2022-09-16 10:45:28.489313: I tensorflow/stream_executor/platform/default/dso_loader.cc:49] Successfully opened dynamic library libcusparse.so.10\n",
      "2022-09-16 10:45:28.489326: I tensorflow/stream_executor/platform/default/dso_loader.cc:49] Successfully opened dynamic library libcudnn.so.7\n",
      "2022-09-16 10:45:28.489391: I tensorflow/stream_executor/cuda/cuda_gpu_executor.cc:941] successful NUMA node read from SysFS had negative value (-1), but there must be at least one NUMA node, so returning NUMA node zero\n",
      "2022-09-16 10:45:28.490024: I tensorflow/stream_executor/cuda/cuda_gpu_executor.cc:941] successful NUMA node read from SysFS had negative value (-1), but there must be at least one NUMA node, so returning NUMA node zero\n",
      "2022-09-16 10:45:28.490901: I tensorflow/stream_executor/cuda/cuda_gpu_executor.cc:941] successful NUMA node read from SysFS had negative value (-1), but there must be at least one NUMA node, so returning NUMA node zero\n",
      "2022-09-16 10:45:28.491776: I tensorflow/stream_executor/cuda/cuda_gpu_executor.cc:941] successful NUMA node read from SysFS had negative value (-1), but there must be at least one NUMA node, so returning NUMA node zero\n",
      "2022-09-16 10:45:28.492704: I tensorflow/stream_executor/cuda/cuda_gpu_executor.cc:941] successful NUMA node read from SysFS had negative value (-1), but there must be at least one NUMA node, so returning NUMA node zero\n",
      "2022-09-16 10:45:28.493325: I tensorflow/stream_executor/cuda/cuda_gpu_executor.cc:941] successful NUMA node read from SysFS had negative value (-1), but there must be at least one NUMA node, so returning NUMA node zero\n",
      "2022-09-16 10:45:28.494270: I tensorflow/stream_executor/cuda/cuda_gpu_executor.cc:941] successful NUMA node read from SysFS had negative value (-1), but there must be at least one NUMA node, so returning NUMA node zero\n",
      "2022-09-16 10:45:28.495118: I tensorflow/stream_executor/cuda/cuda_gpu_executor.cc:941] successful NUMA node read from SysFS had negative value (-1), but there must be at least one NUMA node, so returning NUMA node zero\n",
      "2022-09-16 10:45:28.495921: I tensorflow/core/common_runtime/gpu/gpu_device.cc:1862] Adding visible gpu devices: 0, 1, 2, 3\n",
      "2022-09-16 10:45:28.496000: I tensorflow/stream_executor/platform/default/dso_loader.cc:49] Successfully opened dynamic library libcudart.so.10.1\n",
      "2022-09-16 10:45:31.641487: I tensorflow/core/common_runtime/gpu/gpu_device.cc:1261] Device interconnect StreamExecutor with strength 1 edge matrix:\n",
      "2022-09-16 10:45:31.641528: I tensorflow/core/common_runtime/gpu/gpu_device.cc:1267]      0 1 2 3 \n",
      "2022-09-16 10:45:31.641535: I tensorflow/core/common_runtime/gpu/gpu_device.cc:1280] 0:   N Y N N \n",
      "2022-09-16 10:45:31.641540: I tensorflow/core/common_runtime/gpu/gpu_device.cc:1280] 1:   Y N N N \n",
      "2022-09-16 10:45:31.641545: I tensorflow/core/common_runtime/gpu/gpu_device.cc:1280] 2:   N N N Y \n",
      "2022-09-16 10:45:31.641550: I tensorflow/core/common_runtime/gpu/gpu_device.cc:1280] 3:   N N Y N \n",
      "2022-09-16 10:45:31.641940: I tensorflow/stream_executor/cuda/cuda_gpu_executor.cc:941] successful NUMA node read from SysFS had negative value (-1), but there must be at least one NUMA node, so returning NUMA node zero\n",
      "2022-09-16 10:45:31.642603: I tensorflow/stream_executor/cuda/cuda_gpu_executor.cc:941] successful NUMA node read from SysFS had negative value (-1), but there must be at least one NUMA node, so returning NUMA node zero\n",
      "2022-09-16 10:45:31.643473: I tensorflow/stream_executor/cuda/cuda_gpu_executor.cc:941] successful NUMA node read from SysFS had negative value (-1), but there must be at least one NUMA node, so returning NUMA node zero\n",
      "2022-09-16 10:45:31.644311: I tensorflow/stream_executor/cuda/cuda_gpu_executor.cc:941] successful NUMA node read from SysFS had negative value (-1), but there must be at least one NUMA node, so returning NUMA node zero\n",
      "2022-09-16 10:45:31.645221: I tensorflow/stream_executor/cuda/cuda_gpu_executor.cc:941] successful NUMA node read from SysFS had negative value (-1), but there must be at least one NUMA node, so returning NUMA node zero\n",
      "2022-09-16 10:45:31.645846: I tensorflow/stream_executor/cuda/cuda_gpu_executor.cc:941] successful NUMA node read from SysFS had negative value (-1), but there must be at least one NUMA node, so returning NUMA node zero\n",
      "2022-09-16 10:45:31.646440: I tensorflow/core/common_runtime/gpu/gpu_device.cc:1406] Created TensorFlow device (/job:localhost/replica:0/task:0/device:GPU:0 with 354 MB memory) -> physical GPU (device: 0, name: NVIDIA Tesla T4, pci bus id: 0000:00:04.0, compute capability: 7.5)\n",
      "2022-09-16 10:45:31.647004: I tensorflow/stream_executor/cuda/cuda_gpu_executor.cc:941] successful NUMA node read from SysFS had negative value (-1), but there must be at least one NUMA node, so returning NUMA node zero\n",
      "2022-09-16 10:45:31.648024: I tensorflow/stream_executor/cuda/cuda_gpu_executor.cc:941] successful NUMA node read from SysFS had negative value (-1), but there must be at least one NUMA node, so returning NUMA node zero\n",
      "2022-09-16 10:45:31.648979: I tensorflow/core/common_runtime/gpu/gpu_device.cc:1406] Created TensorFlow device (/job:localhost/replica:0/task:0/device:GPU:1 with 13743 MB memory) -> physical GPU (device: 1, name: NVIDIA Tesla T4, pci bus id: 0000:00:05.0, compute capability: 7.5)\n",
      "2022-09-16 10:45:31.649486: I tensorflow/stream_executor/cuda/cuda_gpu_executor.cc:941] successful NUMA node read from SysFS had negative value (-1), but there must be at least one NUMA node, so returning NUMA node zero\n",
      "2022-09-16 10:45:31.650430: I tensorflow/stream_executor/cuda/cuda_gpu_executor.cc:941] successful NUMA node read from SysFS had negative value (-1), but there must be at least one NUMA node, so returning NUMA node zero\n",
      "2022-09-16 10:45:31.651232: I tensorflow/core/common_runtime/gpu/gpu_device.cc:1406] Created TensorFlow device (/job:localhost/replica:0/task:0/device:GPU:2 with 13743 MB memory) -> physical GPU (device: 2, name: NVIDIA Tesla T4, pci bus id: 0000:00:06.0, compute capability: 7.5)\n",
      "2022-09-16 10:45:31.651653: I tensorflow/stream_executor/cuda/cuda_gpu_executor.cc:941] successful NUMA node read from SysFS had negative value (-1), but there must be at least one NUMA node, so returning NUMA node zero\n",
      "2022-09-16 10:45:31.652523: I tensorflow/stream_executor/cuda/cuda_gpu_executor.cc:941] successful NUMA node read from SysFS had negative value (-1), but there must be at least one NUMA node, so returning NUMA node zero\n",
      "2022-09-16 10:45:31.653404: I tensorflow/core/common_runtime/gpu/gpu_device.cc:1406] Created TensorFlow device (/job:localhost/replica:0/task:0/device:GPU:3 with 13743 MB memory) -> physical GPU (device: 3, name: NVIDIA Tesla T4, pci bus id: 0000:00:07.0, compute capability: 7.5)\n"
     ]
    }
   ],
   "source": [
    "agent0 = DQNAgent(env.state_size(), env.action_size(), env.max_val())\n",
    "agent0.load('./model_output/DQN_2p_v2/0004/weights_6000.hdf5')"
   ]
  },
  {
   "cell_type": "code",
   "execution_count": 6,
   "metadata": {},
   "outputs": [
    {
     "name": "stderr",
     "output_type": "stream",
     "text": [
      "2022-09-16 10:45:32.089931: I tensorflow/compiler/mlir/mlir_graph_optimization_pass.cc:116] None of the MLIR optimization passes are enabled (registered 2)\n",
      "2022-09-16 10:45:32.090347: I tensorflow/core/platform/profile_utils/cpu_utils.cc:112] CPU Frequency: 2199995000 Hz\n",
      "2022-09-16 10:45:32.240411: I tensorflow/stream_executor/platform/default/dso_loader.cc:49] Successfully opened dynamic library libcublas.so.10\n"
     ]
    }
   ],
   "source": [
    "dat = data[0]\n",
    "q_temp = []\n",
    "q_temp_norm = []\n",
    "\n",
    "q_vals = np.squeeze(agent0.model.predict(np.reshape(dat['states'], [len(dat['states']),11,1])/69))\n",
    "for i in range (len(dat['states'])):\n",
    "    q_temp.append(q_vals[i,dat['action'][i]])\n",
    "    q_temp_norm.append(q_vals[i,dat['action'][i]]/np.max(q_vals[i,:]))\n",
    "    "
   ]
  },
  {
   "cell_type": "code",
   "execution_count": 7,
   "metadata": {},
   "outputs": [],
   "source": [
    "out = {}\n",
    "\n",
    "out['q_user_1'] = np.array(q_temp.copy())\n",
    "out['q_user_1'][dat['user_ids']==1] = 0\n",
    "\n",
    "out['q_user_2'] = np.array(q_temp.copy())\n",
    "out['q_user_2'][dat['user_ids']==0] = 0\n",
    "\n",
    "out['q_norm_user_1'] = np.array(q_temp_norm.copy())\n",
    "out['q_norm_user_1'][dat['user_ids']==1] = 0\n",
    "\n",
    "out['q_norm_user_2'] = np.array(q_temp_norm.copy())\n",
    "out['q_norm_user_2'][dat['user_ids']==0] = 0\n",
    "\n",
    "out['Score_user_1'] = dat['score'][1:,0]\n",
    "out['Score_user_2'] = dat['score'][1:,1]\n",
    "\n",
    "out['Dice Role'] = np.array(dat['states'])[:,0]"
   ]
  },
  {
   "cell_type": "code",
   "execution_count": 8,
   "metadata": {},
   "outputs": [
    {
     "data": {
      "text/plain": [
       "105"
      ]
     },
     "execution_count": 8,
     "metadata": {},
     "output_type": "execute_result"
    }
   ],
   "source": [
    "len(out['Score_user_1'])"
   ]
  },
  {
   "cell_type": "code",
   "execution_count": 9,
   "metadata": {},
   "outputs": [],
   "source": [
    "out = pd.DataFrame(out)"
   ]
  },
  {
   "cell_type": "code",
   "execution_count": 10,
   "metadata": {},
   "outputs": [],
   "source": [
    "out.to_csv('../data/one_game_v2.csv')"
   ]
  },
  {
   "cell_type": "code",
   "execution_count": null,
   "metadata": {},
   "outputs": [],
   "source": []
  }
 ],
 "metadata": {
  "kernelspec": {
   "display_name": "Python 3.9.12 ('base': conda)",
   "language": "python",
   "name": "python3"
  },
  "language_info": {
   "codemirror_mode": {
    "name": "ipython",
    "version": 3
   },
   "file_extension": ".py",
   "mimetype": "text/x-python",
   "name": "python",
   "nbconvert_exporter": "python",
   "pygments_lexer": "ipython3",
   "version": "3.9.12"
  },
  "orig_nbformat": 4,
  "vscode": {
   "interpreter": {
    "hash": "f44b79a3083351f69b3e1c3080f8b68c85400f1e3f9274646c7d9776fff2bccb"
   }
  }
 },
 "nbformat": 4,
 "nbformat_minor": 2
}
